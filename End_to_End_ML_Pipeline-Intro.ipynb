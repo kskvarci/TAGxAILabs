{
 "cells": [
  {
   "cell_type": "markdown",
   "metadata": {},
   "source": [
    "<h1 align=\"center\">Meetup13 LAB - End to End ML Pipeline</h1>\n",
    "<h1 align=\"center\">Meetup DFW Data & AI - Microsoft</h1>\n",
    "## Setting Up Environment "
   ]
  },
  {
   "cell_type": "markdown",
   "metadata": {},
   "source": [
    "1. Please follow the instructions on the prior notebook [here](Meetup13-End-to-End-ML-Pipeline.ipynb) to setup correctly the Deep Learning VM in Azure\n",
    "2. Follow the instructions [here](https://github.com/mrjbq7/ta-lib) to install TA-Lib library and the python wrapper\n",
    "3. Don't forget to change the Kernel to AzureML"
   ]
  },
  {
   "cell_type": "markdown",
   "metadata": {},
   "source": [
    "## Let's Begin"
   ]
  },
  {
   "cell_type": "code",
   "execution_count": 4,
   "metadata": {},
   "outputs": [],
   "source": [
    "%matplotlib notebook\n",
    "%matplotlib inline\n",
    "\n",
    "import os\n",
    "os.environ['KERAS_BACKEND'] = \"tensorflow\" # you can use \"cntk\" or \"tensorflow\"\n",
    "import time\n",
    "import datetime as dt\n",
    "import numpy as np\n",
    "from numpy import newaxis\n",
    "from numpy import array\n",
    "import matplotlib.pyplot as plt\n",
    "import pandas\n",
    "from urllib.request import urlretrieve\n",
    "\n",
    "import keras\n",
    "from keras.layers.core import Dense, Activation, Dropout\n",
    "from keras.layers.recurrent import LSTM\n",
    "from keras.models import Sequential\n",
    "from keras import backend as K\n",
    "\n",
    "import talib as ta\n",
    "\n",
    "from azure.storage.blob import BlockBlobService\n",
    "from azureml.core import Workspace, Run\n",
    "import azureml.core"
   ]
  },
  {
   "cell_type": "code",
   "execution_count": 5,
   "metadata": {},
   "outputs": [
    {
     "data": {
      "text/plain": [
       "['/job:localhost/replica:0/task:0/device:GPU:0']"
      ]
     },
     "execution_count": 5,
     "metadata": {},
     "output_type": "execute_result"
    }
   ],
   "source": [
    "# Check what GPUs is Keras seeing\n",
    "K.tensorflow_backend._get_available_gpus()"
   ]
  },
  {
   "cell_type": "code",
   "execution_count": 6,
   "metadata": {},
   "outputs": [
    {
     "name": "stdout",
     "output_type": "stream",
     "text": [
      "SDK version: 0.1.13\n"
     ]
    }
   ],
   "source": [
    "# Check Azure ML core SDK version number\n",
    "print(\"SDK version:\", azureml.core.VERSION)"
   ]
  },
  {
   "cell_type": "markdown",
   "metadata": {},
   "source": [
    "## Create AML Workspace"
   ]
  },
  {
   "cell_type": "code",
   "execution_count": 8,
   "metadata": {},
   "outputs": [],
   "source": [
    "subscription_id = \"<YOUR SUBSCRIPTION ID>\"\n",
    "resource_group = \"meetups_aml_rg\"\n",
    "workspace_name = \"meetups_aml_workspace\"\n",
    "workspace_region = 'eastus2'"
   ]
  },
  {
   "cell_type": "code",
   "execution_count": 9,
   "metadata": {},
   "outputs": [
    {
     "name": "stderr",
     "output_type": "stream",
     "text": [
      "UserWarning: The resource group doesn't exist or was not provided. AzureML SDK can create a resource group=meetups_aml_rg in location=eastus2 using subscription=b1395605-1fe9-4af4-b3ff-82a4725a3791. Press 'y' to confirm\n"
     ]
    },
    {
     "name": "stdout",
     "output_type": "stream",
     "text": [
      "y\n"
     ]
    },
    {
     "name": "stderr",
     "output_type": "stream",
     "text": [
      "UserWarning: The resource group doesn't exist or was not provided. AzureML SDK is creating a resource group=meetups_aml_rg in location=eastus2 using subscription=b1395605-1fe9-4af4-b3ff-82a4725a3791.\n"
     ]
    },
    {
     "data": {
      "text/plain": [
       "{'id': '/subscriptions/b1395605-1fe9-4af4-b3ff-82a4725a3791/resourceGroups/meetups_aml_rg/providers/Microsoft.MachineLearningServices/workspaces/meetups_aml_workspace',\n",
       " 'name': 'meetups_aml_workspace',\n",
       " 'location': 'eastus2',\n",
       " 'type': 'Microsoft.MachineLearningServices/workspaces',\n",
       " 'description': '',\n",
       " 'friendlyName': 'meetups_aml_workspace',\n",
       " 'containerRegistry': '/subscriptions/b1395605-1fe9-4af4-b3ff-82a4725a3791/resourcegroups/meetups_aml_rg/providers/microsoft.containerregistry/registries/meetupsaacrevoriscu',\n",
       " 'keyVault': '/subscriptions/b1395605-1fe9-4af4-b3ff-82a4725a3791/resourcegroups/meetups_aml_rg/providers/microsoft.keyvault/vaults/meetupsakeyvaultylwnpgjl',\n",
       " 'applicationInsights': '/subscriptions/b1395605-1fe9-4af4-b3ff-82a4725a3791/resourcegroups/meetups_aml_rg/providers/microsoft.insights/components/meetupsainsightsikqkqmzp',\n",
       " 'batchaiWorkspace': '/subscriptions/b1395605-1fe9-4af4-b3ff-82a4725a3791/resourcegroups/meetups_aml_rg/providers/microsoft.batchai/workspaces/meetupsabatchai_pqxmoqzr',\n",
       " 'identityPrincipalId': 'b82e3d67-e72f-4acd-84ef-7c5c74f52b2e',\n",
       " 'identityTenantId': '72f988bf-86f1-41af-91ab-2d7cd011db47',\n",
       " 'identityType': 'SystemAssigned',\n",
       " 'storageAccount': '/subscriptions/b1395605-1fe9-4af4-b3ff-82a4725a3791/resourcegroups/meetups_aml_rg/providers/microsoft.storage/storageaccounts/meetupsastoragefdtvwedt'}"
      ]
     },
     "execution_count": 9,
     "metadata": {},
     "output_type": "execute_result"
    }
   ],
   "source": [
    "from azureml.core import Workspace\n",
    "\n",
    "ws = Workspace.create(name = workspace_name,\n",
    "                      subscription_id = subscription_id,\n",
    "                      resource_group = resource_group, \n",
    "                      location = workspace_region)\n",
    "ws.get_details()"
   ]
  },
  {
   "cell_type": "code",
   "execution_count": 10,
   "metadata": {},
   "outputs": [
    {
     "name": "stdout",
     "output_type": "stream",
     "text": [
      "Wrote the config file config.json to: /home/sshuser/notebooks/Meetups-Data-AI-DFW/aml_config/config.json\n"
     ]
    }
   ],
   "source": [
    "#You can validate that you have access to the specified workspace and write a configuration file \n",
    "#to the default configuration location, ./aml_config/config.json\n",
    "\n",
    "ws = Workspace(workspace_name = workspace_name,\n",
    "               subscription_id = subscription_id,\n",
    "               resource_group = resource_group)\n",
    "\n",
    "# persist the subscription id, resource group name, and workspace name in aml_config/config.json.\n",
    "ws.write_config()"
   ]
  },
  {
   "cell_type": "markdown",
   "metadata": {},
   "source": [
    "## Create An Experiment\n",
    "**Experiment** is a logical container in an Azure ML Workspace. It hosts run records which can include run metrics and output artifacts from your experiments."
   ]
  },
  {
   "cell_type": "code",
   "execution_count": 13,
   "metadata": {},
   "outputs": [],
   "source": [
    "from azureml.core import Experiment\n",
    "experiment_name = 'meetup13-train-on-local'\n",
    "experiment = Experiment(workspace_object = ws, name = experiment_name)"
   ]
  },
  {
   "cell_type": "code",
   "execution_count": 14,
   "metadata": {},
   "outputs": [],
   "source": [
    "run = experiment.start_logging()"
   ]
  },
  {
   "cell_type": "markdown",
   "metadata": {},
   "source": [
    "## Define the TICKER time series to work with"
   ]
  },
  {
   "cell_type": "code",
   "execution_count": 15,
   "metadata": {},
   "outputs": [],
   "source": [
    "TICKER = \"SPY\""
   ]
  },
  {
   "cell_type": "code",
   "execution_count": 16,
   "metadata": {},
   "outputs": [],
   "source": [
    "run.tag(\"Description\",\"My first run!\")\n",
    "run.log('ticker', TICKER)"
   ]
  },
  {
   "cell_type": "markdown",
   "metadata": {},
   "source": [
    "# Create File and Dir paths"
   ]
  },
  {
   "cell_type": "code",
   "execution_count": 17,
   "metadata": {},
   "outputs": [],
   "source": [
    "MODELS_DIR = \"./models/\"\n",
    "DATA_DIR = \"./data/\"\n",
    "TEST_DATA_PATH = DATA_DIR + TICKER + '-test_score_df.pkl'\n",
    "\n",
    "MIN_MAX_DICT = MODELS_DIR + TICKER +'-min_max.pkl'\n",
    "\n",
    "# File name of the model architecture\n",
    "LSTM_MODEL = MODELS_DIR + TICKER +'-modellstm.json'\n",
    "\n",
    "# File name of the last epoch weights\n",
    "MODEL_WEIGHTS = MODELS_DIR + TICKER +'-modellstm.h5'  \n",
    "\n",
    "# File name of the epoch with the lowest loss\n",
    "MODEL_WEIGHTS_BEST = MODELS_DIR + TICKER +'-modellstm-best.h5'"
   ]
  },
  {
   "cell_type": "markdown",
   "metadata": {},
   "source": [
    "# Load Ticker Historical Time Series Data from On-Prem SQL to  Blob Storage"
   ]
  },
  {
   "cell_type": "markdown",
   "metadata": {},
   "source": [
    "### You need to follow this tutorial to connect your on-premises SQL Server to Azure Data Factory\n",
    "https://docs.microsoft.com/en-us/azure/data-factory/quickstart-create-data-factory-copy-data-tool <br>\n",
    "Note: Instead of the data provided on the tutorial above, use the file on data/SPY.sql to load the SQL Database table\n",
    "\n",
    "Then, once the data is on Azure Blob Storage, you can continue below"
   ]
  },
  {
   "cell_type": "code",
   "execution_count": 18,
   "metadata": {},
   "outputs": [],
   "source": [
    "#Connection String\n",
    "block_blob_service = BlockBlobService(account_name='meetup13',account_key='1dgfh6AeuDiMkxatAofkKKKbNeT9cbABK1TqWMtBky1PpXuRe9T0RUK+/IRN5C/410hqEdQLrAaQEzEEhXPu3g==')\n",
    "\n",
    "container_name ='spy'"
   ]
  },
  {
   "cell_type": "code",
   "execution_count": 19,
   "metadata": {},
   "outputs": [
    {
     "name": "stdout",
     "output_type": "stream",
     "text": [
      "\n",
      "List blobs in the container\n",
      "\t Downloading Blob name: SPY.csv\n"
     ]
    }
   ],
   "source": [
    "# List the blobs in the container\n",
    "print(\"\\nList blobs in the container\")\n",
    "generator = block_blob_service.list_blobs(container_name)\n",
    "for blob in generator:\n",
    "    print(\"\\t Downloading Blob name: \" + blob.name)\n",
    "    block_blob_service.get_blob_to_path(container_name, blob.name, DATA_DIR + blob.name)"
   ]
  },
  {
   "cell_type": "code",
   "execution_count": 20,
   "metadata": {},
   "outputs": [],
   "source": [
    "filepath = DATA_DIR + TICKER +\".csv\"\n",
    "data = pandas.read_csv(filepath,parse_dates=True, names=['Date','Open','High','Low','Close','Volume','Dividend','Split','Adj_Open','Adj_High','Adj_Low','Adj_Close','Adj_Volume'],\n",
    "                       index_col='Date')"
   ]
  },
  {
   "cell_type": "code",
   "execution_count": 21,
   "metadata": {},
   "outputs": [],
   "source": [
    "data.index = pandas.to_datetime(data.index)"
   ]
  },
  {
   "cell_type": "code",
   "execution_count": 22,
   "metadata": {},
   "outputs": [
    {
     "data": {
      "text/html": [
       "<div>\n",
       "<style scoped>\n",
       "    .dataframe tbody tr th:only-of-type {\n",
       "        vertical-align: middle;\n",
       "    }\n",
       "\n",
       "    .dataframe tbody tr th {\n",
       "        vertical-align: top;\n",
       "    }\n",
       "\n",
       "    .dataframe thead th {\n",
       "        text-align: right;\n",
       "    }\n",
       "</style>\n",
       "<table border=\"1\" class=\"dataframe\">\n",
       "  <thead>\n",
       "    <tr style=\"text-align: right;\">\n",
       "      <th></th>\n",
       "      <th>Open</th>\n",
       "      <th>High</th>\n",
       "      <th>Low</th>\n",
       "      <th>Close</th>\n",
       "      <th>Volume</th>\n",
       "      <th>Dividend</th>\n",
       "      <th>Split</th>\n",
       "      <th>Adj_Open</th>\n",
       "      <th>Adj_High</th>\n",
       "      <th>Adj_Low</th>\n",
       "      <th>Adj_Close</th>\n",
       "      <th>Adj_Volume</th>\n",
       "    </tr>\n",
       "    <tr>\n",
       "      <th>Date</th>\n",
       "      <th></th>\n",
       "      <th></th>\n",
       "      <th></th>\n",
       "      <th></th>\n",
       "      <th></th>\n",
       "      <th></th>\n",
       "      <th></th>\n",
       "      <th></th>\n",
       "      <th></th>\n",
       "      <th></th>\n",
       "      <th></th>\n",
       "      <th></th>\n",
       "    </tr>\n",
       "  </thead>\n",
       "  <tbody>\n",
       "    <tr>\n",
       "      <th>2018-06-25</th>\n",
       "      <td>273.44</td>\n",
       "      <td>273.6162</td>\n",
       "      <td>269.1000</td>\n",
       "      <td>271.00</td>\n",
       "      <td>137854162.0</td>\n",
       "      <td>0.0</td>\n",
       "      <td>1.0</td>\n",
       "      <td>273.44</td>\n",
       "      <td>273.6162</td>\n",
       "      <td>269.1000</td>\n",
       "      <td>271.00</td>\n",
       "      <td>137854162.0</td>\n",
       "    </tr>\n",
       "    <tr>\n",
       "      <th>2018-06-26</th>\n",
       "      <td>271.64</td>\n",
       "      <td>272.5600</td>\n",
       "      <td>270.7900</td>\n",
       "      <td>271.60</td>\n",
       "      <td>68683211.0</td>\n",
       "      <td>0.0</td>\n",
       "      <td>1.0</td>\n",
       "      <td>271.64</td>\n",
       "      <td>272.5600</td>\n",
       "      <td>270.7900</td>\n",
       "      <td>271.60</td>\n",
       "      <td>68683211.0</td>\n",
       "    </tr>\n",
       "    <tr>\n",
       "      <th>2018-06-27</th>\n",
       "      <td>272.26</td>\n",
       "      <td>273.8650</td>\n",
       "      <td>269.1800</td>\n",
       "      <td>269.35</td>\n",
       "      <td>104960655.0</td>\n",
       "      <td>0.0</td>\n",
       "      <td>1.0</td>\n",
       "      <td>272.26</td>\n",
       "      <td>273.8650</td>\n",
       "      <td>269.1800</td>\n",
       "      <td>269.35</td>\n",
       "      <td>104960655.0</td>\n",
       "    </tr>\n",
       "    <tr>\n",
       "      <th>2018-06-28</th>\n",
       "      <td>269.29</td>\n",
       "      <td>271.7500</td>\n",
       "      <td>268.4900</td>\n",
       "      <td>270.89</td>\n",
       "      <td>76622607.0</td>\n",
       "      <td>0.0</td>\n",
       "      <td>1.0</td>\n",
       "      <td>269.29</td>\n",
       "      <td>271.7500</td>\n",
       "      <td>268.4900</td>\n",
       "      <td>270.89</td>\n",
       "      <td>76622607.0</td>\n",
       "    </tr>\n",
       "    <tr>\n",
       "      <th>2018-06-29</th>\n",
       "      <td>272.12</td>\n",
       "      <td>273.6600</td>\n",
       "      <td>271.1495</td>\n",
       "      <td>271.28</td>\n",
       "      <td>97592499.0</td>\n",
       "      <td>0.0</td>\n",
       "      <td>1.0</td>\n",
       "      <td>272.12</td>\n",
       "      <td>273.6600</td>\n",
       "      <td>271.1495</td>\n",
       "      <td>271.28</td>\n",
       "      <td>97592499.0</td>\n",
       "    </tr>\n",
       "  </tbody>\n",
       "</table>\n",
       "</div>"
      ],
      "text/plain": [
       "              Open      High       Low   Close       Volume  Dividend  Split  \\\n",
       "Date                                                                           \n",
       "2018-06-25  273.44  273.6162  269.1000  271.00  137854162.0       0.0    1.0   \n",
       "2018-06-26  271.64  272.5600  270.7900  271.60   68683211.0       0.0    1.0   \n",
       "2018-06-27  272.26  273.8650  269.1800  269.35  104960655.0       0.0    1.0   \n",
       "2018-06-28  269.29  271.7500  268.4900  270.89   76622607.0       0.0    1.0   \n",
       "2018-06-29  272.12  273.6600  271.1495  271.28   97592499.0       0.0    1.0   \n",
       "\n",
       "            Adj_Open  Adj_High   Adj_Low  Adj_Close   Adj_Volume  \n",
       "Date                                                              \n",
       "2018-06-25    273.44  273.6162  269.1000     271.00  137854162.0  \n",
       "2018-06-26    271.64  272.5600  270.7900     271.60   68683211.0  \n",
       "2018-06-27    272.26  273.8650  269.1800     269.35  104960655.0  \n",
       "2018-06-28    269.29  271.7500  268.4900     270.89   76622607.0  \n",
       "2018-06-29    272.12  273.6600  271.1495     271.28   97592499.0  "
      ]
     },
     "execution_count": 22,
     "metadata": {},
     "output_type": "execute_result"
    }
   ],
   "source": [
    "data.tail()"
   ]
  },
  {
   "cell_type": "code",
   "execution_count": 23,
   "metadata": {},
   "outputs": [
    {
     "data": {
      "text/html": [
       "<div>\n",
       "<style scoped>\n",
       "    .dataframe tbody tr th:only-of-type {\n",
       "        vertical-align: middle;\n",
       "    }\n",
       "\n",
       "    .dataframe tbody tr th {\n",
       "        vertical-align: top;\n",
       "    }\n",
       "\n",
       "    .dataframe thead th {\n",
       "        text-align: right;\n",
       "    }\n",
       "</style>\n",
       "<table border=\"1\" class=\"dataframe\">\n",
       "  <thead>\n",
       "    <tr style=\"text-align: right;\">\n",
       "      <th></th>\n",
       "      <th>Open</th>\n",
       "      <th>High</th>\n",
       "      <th>Low</th>\n",
       "      <th>Close</th>\n",
       "      <th>Volume</th>\n",
       "      <th>Dividend</th>\n",
       "      <th>Split</th>\n",
       "      <th>Adj_Open</th>\n",
       "      <th>Adj_High</th>\n",
       "      <th>Adj_Low</th>\n",
       "      <th>Adj_Close</th>\n",
       "      <th>Adj_Volume</th>\n",
       "    </tr>\n",
       "  </thead>\n",
       "  <tbody>\n",
       "    <tr>\n",
       "      <th>count</th>\n",
       "      <td>4653.000000</td>\n",
       "      <td>4653.000000</td>\n",
       "      <td>4653.000000</td>\n",
       "      <td>4653.000000</td>\n",
       "      <td>4.653000e+03</td>\n",
       "      <td>4653.000000</td>\n",
       "      <td>4653.0</td>\n",
       "      <td>4653.000000</td>\n",
       "      <td>4653.000000</td>\n",
       "      <td>4653.000000</td>\n",
       "      <td>4653.000000</td>\n",
       "      <td>4.653000e+03</td>\n",
       "    </tr>\n",
       "    <tr>\n",
       "      <th>mean</th>\n",
       "      <td>147.158041</td>\n",
       "      <td>148.018492</td>\n",
       "      <td>146.211340</td>\n",
       "      <td>147.156245</td>\n",
       "      <td>1.149495e+08</td>\n",
       "      <td>0.011062</td>\n",
       "      <td>1.0</td>\n",
       "      <td>126.160803</td>\n",
       "      <td>126.879130</td>\n",
       "      <td>125.370934</td>\n",
       "      <td>126.162028</td>\n",
       "      <td>1.149495e+08</td>\n",
       "    </tr>\n",
       "    <tr>\n",
       "      <th>std</th>\n",
       "      <td>47.029426</td>\n",
       "      <td>47.032172</td>\n",
       "      <td>47.011564</td>\n",
       "      <td>47.037064</td>\n",
       "      <td>1.014869e+08</td>\n",
       "      <td>0.093500</td>\n",
       "      <td>0.0</td>\n",
       "      <td>53.636267</td>\n",
       "      <td>53.711409</td>\n",
       "      <td>53.545052</td>\n",
       "      <td>53.647581</td>\n",
       "      <td>1.014869e+08</td>\n",
       "    </tr>\n",
       "    <tr>\n",
       "      <th>min</th>\n",
       "      <td>67.949997</td>\n",
       "      <td>70.000000</td>\n",
       "      <td>67.099998</td>\n",
       "      <td>68.110001</td>\n",
       "      <td>1.436600e+06</td>\n",
       "      <td>0.000000</td>\n",
       "      <td>1.0</td>\n",
       "      <td>55.969691</td>\n",
       "      <td>57.658257</td>\n",
       "      <td>55.269556</td>\n",
       "      <td>56.101484</td>\n",
       "      <td>1.436600e+06</td>\n",
       "    </tr>\n",
       "    <tr>\n",
       "      <th>25%</th>\n",
       "      <td>114.230003</td>\n",
       "      <td>114.940002</td>\n",
       "      <td>113.400002</td>\n",
       "      <td>114.199997</td>\n",
       "      <td>4.670420e+07</td>\n",
       "      <td>0.000000</td>\n",
       "      <td>1.0</td>\n",
       "      <td>88.991344</td>\n",
       "      <td>89.596576</td>\n",
       "      <td>88.340048</td>\n",
       "      <td>89.073893</td>\n",
       "      <td>4.670420e+07</td>\n",
       "    </tr>\n",
       "    <tr>\n",
       "      <th>50%</th>\n",
       "      <td>132.839996</td>\n",
       "      <td>133.600006</td>\n",
       "      <td>131.779999</td>\n",
       "      <td>132.770004</td>\n",
       "      <td>8.627080e+07</td>\n",
       "      <td>0.000000</td>\n",
       "      <td>1.0</td>\n",
       "      <td>105.568756</td>\n",
       "      <td>106.338640</td>\n",
       "      <td>104.621110</td>\n",
       "      <td>105.435721</td>\n",
       "      <td>8.627080e+07</td>\n",
       "    </tr>\n",
       "    <tr>\n",
       "      <th>75%</th>\n",
       "      <td>177.029999</td>\n",
       "      <td>177.529999</td>\n",
       "      <td>176.369995</td>\n",
       "      <td>177.289993</td>\n",
       "      <td>1.570000e+08</td>\n",
       "      <td>0.000000</td>\n",
       "      <td>1.0</td>\n",
       "      <td>161.182193</td>\n",
       "      <td>161.655405</td>\n",
       "      <td>160.499680</td>\n",
       "      <td>161.336894</td>\n",
       "      <td>1.570000e+08</td>\n",
       "    </tr>\n",
       "    <tr>\n",
       "      <th>max</th>\n",
       "      <td>285.930000</td>\n",
       "      <td>286.628500</td>\n",
       "      <td>284.500000</td>\n",
       "      <td>286.580000</td>\n",
       "      <td>8.710263e+08</td>\n",
       "      <td>1.351330</td>\n",
       "      <td>1.0</td>\n",
       "      <td>283.516145</td>\n",
       "      <td>284.208748</td>\n",
       "      <td>282.098217</td>\n",
       "      <td>284.160657</td>\n",
       "      <td>8.710263e+08</td>\n",
       "    </tr>\n",
       "  </tbody>\n",
       "</table>\n",
       "</div>"
      ],
      "text/plain": [
       "              Open         High          Low        Close        Volume  \\\n",
       "count  4653.000000  4653.000000  4653.000000  4653.000000  4.653000e+03   \n",
       "mean    147.158041   148.018492   146.211340   147.156245  1.149495e+08   \n",
       "std      47.029426    47.032172    47.011564    47.037064  1.014869e+08   \n",
       "min      67.949997    70.000000    67.099998    68.110001  1.436600e+06   \n",
       "25%     114.230003   114.940002   113.400002   114.199997  4.670420e+07   \n",
       "50%     132.839996   133.600006   131.779999   132.770004  8.627080e+07   \n",
       "75%     177.029999   177.529999   176.369995   177.289993  1.570000e+08   \n",
       "max     285.930000   286.628500   284.500000   286.580000  8.710263e+08   \n",
       "\n",
       "          Dividend   Split     Adj_Open     Adj_High      Adj_Low  \\\n",
       "count  4653.000000  4653.0  4653.000000  4653.000000  4653.000000   \n",
       "mean      0.011062     1.0   126.160803   126.879130   125.370934   \n",
       "std       0.093500     0.0    53.636267    53.711409    53.545052   \n",
       "min       0.000000     1.0    55.969691    57.658257    55.269556   \n",
       "25%       0.000000     1.0    88.991344    89.596576    88.340048   \n",
       "50%       0.000000     1.0   105.568756   106.338640   104.621110   \n",
       "75%       0.000000     1.0   161.182193   161.655405   160.499680   \n",
       "max       1.351330     1.0   283.516145   284.208748   282.098217   \n",
       "\n",
       "         Adj_Close    Adj_Volume  \n",
       "count  4653.000000  4.653000e+03  \n",
       "mean    126.162028  1.149495e+08  \n",
       "std      53.647581  1.014869e+08  \n",
       "min      56.101484  1.436600e+06  \n",
       "25%      89.073893  4.670420e+07  \n",
       "50%     105.435721  8.627080e+07  \n",
       "75%     161.336894  1.570000e+08  \n",
       "max     284.160657  8.710263e+08  "
      ]
     },
     "execution_count": 23,
     "metadata": {},
     "output_type": "execute_result"
    }
   ],
   "source": [
    "data.describe()"
   ]
  },
  {
   "cell_type": "markdown",
   "metadata": {},
   "source": [
    "# Feature Engineering"
   ]
  },
  {
   "cell_type": "code",
   "execution_count": 24,
   "metadata": {},
   "outputs": [],
   "source": [
    "use_features = True"
   ]
  },
  {
   "cell_type": "code",
   "execution_count": 25,
   "metadata": {},
   "outputs": [],
   "source": [
    "# Technical Analysis\n",
    "SMA_FAST = 3\n",
    "SMA_SLOW = 10\n",
    "RSI_PERIOD = 5\n",
    "EMA_FAST = 6\n",
    "EMA_SLOW = 13"
   ]
  },
  {
   "cell_type": "code",
   "execution_count": 26,
   "metadata": {},
   "outputs": [],
   "source": [
    "if use_features:\n",
    "    run.log('use_features', \"yes\")\n",
    "    \n",
    "    run.log('SMA_FAST', SMA_FAST)\n",
    "    run.log('SMA_SLOW', SMA_SLOW)\n",
    "    data['sma_diff'] = data['Close'].rolling(window=SMA_SLOW).mean() - data['Close'].rolling(window=SMA_FAST).mean()\n",
    "    \n",
    "    run.log('EMA_FAST', EMA_FAST)\n",
    "    run.log('EMA_SLOW', EMA_SLOW)\n",
    "    data['ema_diff'] = ta.EMA(data.Close.values,EMA_SLOW) - ta.EMA(data.Close.values,EMA_FAST)\n",
    "    \n",
    "    run.log('RSI_PERIOD', RSI_PERIOD)\n",
    "    data['rsi'] = ta.RSI(data.Close.values, RSI_PERIOD)\n",
    "\n",
    "else:\n",
    "    run.log('use_features', \"no\")"
   ]
  },
  {
   "cell_type": "code",
   "execution_count": 27,
   "metadata": {},
   "outputs": [
    {
     "data": {
      "text/html": [
       "<div>\n",
       "<style scoped>\n",
       "    .dataframe tbody tr th:only-of-type {\n",
       "        vertical-align: middle;\n",
       "    }\n",
       "\n",
       "    .dataframe tbody tr th {\n",
       "        vertical-align: top;\n",
       "    }\n",
       "\n",
       "    .dataframe thead th {\n",
       "        text-align: right;\n",
       "    }\n",
       "</style>\n",
       "<table border=\"1\" class=\"dataframe\">\n",
       "  <thead>\n",
       "    <tr style=\"text-align: right;\">\n",
       "      <th></th>\n",
       "      <th>Open</th>\n",
       "      <th>High</th>\n",
       "      <th>Low</th>\n",
       "      <th>Close</th>\n",
       "      <th>Volume</th>\n",
       "      <th>Dividend</th>\n",
       "      <th>Split</th>\n",
       "      <th>Adj_Open</th>\n",
       "      <th>Adj_High</th>\n",
       "      <th>Adj_Low</th>\n",
       "      <th>Adj_Close</th>\n",
       "      <th>Adj_Volume</th>\n",
       "      <th>sma_diff</th>\n",
       "      <th>ema_diff</th>\n",
       "      <th>rsi</th>\n",
       "    </tr>\n",
       "    <tr>\n",
       "      <th>Date</th>\n",
       "      <th></th>\n",
       "      <th></th>\n",
       "      <th></th>\n",
       "      <th></th>\n",
       "      <th></th>\n",
       "      <th></th>\n",
       "      <th></th>\n",
       "      <th></th>\n",
       "      <th></th>\n",
       "      <th></th>\n",
       "      <th></th>\n",
       "      <th></th>\n",
       "      <th></th>\n",
       "      <th></th>\n",
       "      <th></th>\n",
       "    </tr>\n",
       "  </thead>\n",
       "  <tbody>\n",
       "    <tr>\n",
       "      <th>2000-01-03</th>\n",
       "      <td>148.250000</td>\n",
       "      <td>148.250000</td>\n",
       "      <td>143.875000</td>\n",
       "      <td>145.437500</td>\n",
       "      <td>8164300.0</td>\n",
       "      <td>0.0</td>\n",
       "      <td>1.0</td>\n",
       "      <td>104.914399</td>\n",
       "      <td>104.914399</td>\n",
       "      <td>101.818275</td>\n",
       "      <td>102.924034</td>\n",
       "      <td>8164300.0</td>\n",
       "      <td>NaN</td>\n",
       "      <td>NaN</td>\n",
       "      <td>NaN</td>\n",
       "    </tr>\n",
       "    <tr>\n",
       "      <th>2000-01-04</th>\n",
       "      <td>143.531204</td>\n",
       "      <td>144.062500</td>\n",
       "      <td>139.640594</td>\n",
       "      <td>139.750000</td>\n",
       "      <td>8089800.0</td>\n",
       "      <td>0.0</td>\n",
       "      <td>1.0</td>\n",
       "      <td>101.574975</td>\n",
       "      <td>101.950966</td>\n",
       "      <td>98.821646</td>\n",
       "      <td>98.899071</td>\n",
       "      <td>8089800.0</td>\n",
       "      <td>NaN</td>\n",
       "      <td>NaN</td>\n",
       "      <td>NaN</td>\n",
       "    </tr>\n",
       "    <tr>\n",
       "      <th>2000-01-05</th>\n",
       "      <td>139.937500</td>\n",
       "      <td>141.531204</td>\n",
       "      <td>137.250000</td>\n",
       "      <td>140.000000</td>\n",
       "      <td>12177900.0</td>\n",
       "      <td>0.0</td>\n",
       "      <td>1.0</td>\n",
       "      <td>99.031762</td>\n",
       "      <td>100.159604</td>\n",
       "      <td>97.129857</td>\n",
       "      <td>99.075993</td>\n",
       "      <td>12177900.0</td>\n",
       "      <td>NaN</td>\n",
       "      <td>NaN</td>\n",
       "      <td>NaN</td>\n",
       "    </tr>\n",
       "    <tr>\n",
       "      <th>2000-01-06</th>\n",
       "      <td>139.625000</td>\n",
       "      <td>141.500000</td>\n",
       "      <td>137.750000</td>\n",
       "      <td>137.750000</td>\n",
       "      <td>6227200.0</td>\n",
       "      <td>0.0</td>\n",
       "      <td>1.0</td>\n",
       "      <td>98.810611</td>\n",
       "      <td>100.137521</td>\n",
       "      <td>97.483700</td>\n",
       "      <td>97.483700</td>\n",
       "      <td>6227200.0</td>\n",
       "      <td>NaN</td>\n",
       "      <td>NaN</td>\n",
       "      <td>NaN</td>\n",
       "    </tr>\n",
       "    <tr>\n",
       "      <th>2000-01-07</th>\n",
       "      <td>140.312500</td>\n",
       "      <td>145.750000</td>\n",
       "      <td>140.062500</td>\n",
       "      <td>145.750000</td>\n",
       "      <td>8066500.0</td>\n",
       "      <td>0.0</td>\n",
       "      <td>1.0</td>\n",
       "      <td>99.297145</td>\n",
       "      <td>103.145185</td>\n",
       "      <td>99.120223</td>\n",
       "      <td>103.145185</td>\n",
       "      <td>8066500.0</td>\n",
       "      <td>NaN</td>\n",
       "      <td>NaN</td>\n",
       "      <td>NaN</td>\n",
       "    </tr>\n",
       "    <tr>\n",
       "      <th>2000-01-10</th>\n",
       "      <td>146.250000</td>\n",
       "      <td>146.906204</td>\n",
       "      <td>145.031204</td>\n",
       "      <td>146.250000</td>\n",
       "      <td>5741700.0</td>\n",
       "      <td>0.0</td>\n",
       "      <td>1.0</td>\n",
       "      <td>103.499028</td>\n",
       "      <td>103.963414</td>\n",
       "      <td>102.636504</td>\n",
       "      <td>103.499028</td>\n",
       "      <td>5741700.0</td>\n",
       "      <td>NaN</td>\n",
       "      <td>NaN</td>\n",
       "      <td>52.434457</td>\n",
       "    </tr>\n",
       "    <tr>\n",
       "      <th>2000-01-11</th>\n",
       "      <td>145.812500</td>\n",
       "      <td>146.093704</td>\n",
       "      <td>143.500000</td>\n",
       "      <td>144.500000</td>\n",
       "      <td>7503700.0</td>\n",
       "      <td>0.0</td>\n",
       "      <td>1.0</td>\n",
       "      <td>103.189416</td>\n",
       "      <td>103.388420</td>\n",
       "      <td>101.552893</td>\n",
       "      <td>102.260578</td>\n",
       "      <td>7503700.0</td>\n",
       "      <td>NaN</td>\n",
       "      <td>NaN</td>\n",
       "      <td>46.357616</td>\n",
       "    </tr>\n",
       "    <tr>\n",
       "      <th>2000-01-12</th>\n",
       "      <td>144.593704</td>\n",
       "      <td>144.593704</td>\n",
       "      <td>142.875000</td>\n",
       "      <td>143.062500</td>\n",
       "      <td>6907700.0</td>\n",
       "      <td>0.0</td>\n",
       "      <td>1.0</td>\n",
       "      <td>102.326891</td>\n",
       "      <td>102.326891</td>\n",
       "      <td>101.110589</td>\n",
       "      <td>101.243280</td>\n",
       "      <td>6907700.0</td>\n",
       "      <td>NaN</td>\n",
       "      <td>NaN</td>\n",
       "      <td>41.427779</td>\n",
       "    </tr>\n",
       "    <tr>\n",
       "      <th>2000-01-13</th>\n",
       "      <td>144.468704</td>\n",
       "      <td>145.750000</td>\n",
       "      <td>143.281204</td>\n",
       "      <td>145.000000</td>\n",
       "      <td>5158300.0</td>\n",
       "      <td>0.0</td>\n",
       "      <td>1.0</td>\n",
       "      <td>102.238430</td>\n",
       "      <td>103.145185</td>\n",
       "      <td>101.398054</td>\n",
       "      <td>102.614421</td>\n",
       "      <td>5158300.0</td>\n",
       "      <td>NaN</td>\n",
       "      <td>NaN</td>\n",
       "      <td>50.327412</td>\n",
       "    </tr>\n",
       "    <tr>\n",
       "      <th>2000-01-14</th>\n",
       "      <td>146.531204</td>\n",
       "      <td>147.468704</td>\n",
       "      <td>145.968704</td>\n",
       "      <td>146.968704</td>\n",
       "      <td>7437300.0</td>\n",
       "      <td>0.0</td>\n",
       "      <td>1.0</td>\n",
       "      <td>103.698032</td>\n",
       "      <td>104.361487</td>\n",
       "      <td>103.299959</td>\n",
       "      <td>104.007645</td>\n",
       "      <td>7437300.0</td>\n",
       "      <td>-1.563531</td>\n",
       "      <td>NaN</td>\n",
       "      <td>58.362860</td>\n",
       "    </tr>\n",
       "    <tr>\n",
       "      <th>2000-01-18</th>\n",
       "      <td>145.343704</td>\n",
       "      <td>146.625000</td>\n",
       "      <td>145.187500</td>\n",
       "      <td>145.812500</td>\n",
       "      <td>6488500.0</td>\n",
       "      <td>0.0</td>\n",
       "      <td>1.0</td>\n",
       "      <td>102.857655</td>\n",
       "      <td>103.764410</td>\n",
       "      <td>102.747112</td>\n",
       "      <td>103.189416</td>\n",
       "      <td>6488500.0</td>\n",
       "      <td>-2.442698</td>\n",
       "      <td>NaN</td>\n",
       "      <td>52.167617</td>\n",
       "    </tr>\n",
       "    <tr>\n",
       "      <th>2000-01-19</th>\n",
       "      <td>145.312500</td>\n",
       "      <td>147.000000</td>\n",
       "      <td>145.000000</td>\n",
       "      <td>147.000000</td>\n",
       "      <td>6157900.0</td>\n",
       "      <td>0.0</td>\n",
       "      <td>1.0</td>\n",
       "      <td>102.835573</td>\n",
       "      <td>104.029792</td>\n",
       "      <td>102.614421</td>\n",
       "      <td>104.029792</td>\n",
       "      <td>6157900.0</td>\n",
       "      <td>-2.384364</td>\n",
       "      <td>NaN</td>\n",
       "      <td>57.904391</td>\n",
       "    </tr>\n",
       "    <tr>\n",
       "      <th>2000-01-20</th>\n",
       "      <td>146.968704</td>\n",
       "      <td>146.968704</td>\n",
       "      <td>143.812500</td>\n",
       "      <td>144.750000</td>\n",
       "      <td>5800100.0</td>\n",
       "      <td>0.0</td>\n",
       "      <td>1.0</td>\n",
       "      <td>104.007645</td>\n",
       "      <td>104.007645</td>\n",
       "      <td>101.774044</td>\n",
       "      <td>102.437500</td>\n",
       "      <td>5800100.0</td>\n",
       "      <td>-1.169796</td>\n",
       "      <td>-1.297712</td>\n",
       "      <td>45.094896</td>\n",
       "    </tr>\n",
       "    <tr>\n",
       "      <th>2000-01-21</th>\n",
       "      <td>145.500000</td>\n",
       "      <td>145.500000</td>\n",
       "      <td>144.062500</td>\n",
       "      <td>144.437500</td>\n",
       "      <td>6244800.0</td>\n",
       "      <td>0.0</td>\n",
       "      <td>1.0</td>\n",
       "      <td>102.968264</td>\n",
       "      <td>102.968264</td>\n",
       "      <td>101.950966</td>\n",
       "      <td>102.216348</td>\n",
       "      <td>6244800.0</td>\n",
       "      <td>-0.042713</td>\n",
       "      <td>-0.989094</td>\n",
       "      <td>43.427041</td>\n",
       "    </tr>\n",
       "    <tr>\n",
       "      <th>2000-01-24</th>\n",
       "      <td>145.656204</td>\n",
       "      <td>145.843704</td>\n",
       "      <td>139.406204</td>\n",
       "      <td>140.343704</td>\n",
       "      <td>7896900.0</td>\n",
       "      <td>0.0</td>\n",
       "      <td>1.0</td>\n",
       "      <td>103.078807</td>\n",
       "      <td>103.211498</td>\n",
       "      <td>98.655772</td>\n",
       "      <td>99.319227</td>\n",
       "      <td>7896900.0</td>\n",
       "      <td>1.635423</td>\n",
       "      <td>-0.174946</td>\n",
       "      <td>27.046502</td>\n",
       "    </tr>\n",
       "    <tr>\n",
       "      <th>2000-01-25</th>\n",
       "      <td>140.515594</td>\n",
       "      <td>141.937500</td>\n",
       "      <td>139.000000</td>\n",
       "      <td>141.937500</td>\n",
       "      <td>9942500.0</td>\n",
       "      <td>0.0</td>\n",
       "      <td>1.0</td>\n",
       "      <td>99.440871</td>\n",
       "      <td>100.447134</td>\n",
       "      <td>98.368307</td>\n",
       "      <td>100.447134</td>\n",
       "      <td>9942500.0</td>\n",
       "      <td>2.141673</td>\n",
       "      <td>0.102968</td>\n",
       "      <td>38.361106</td>\n",
       "    </tr>\n",
       "    <tr>\n",
       "      <th>2000-01-26</th>\n",
       "      <td>141.000000</td>\n",
       "      <td>141.546799</td>\n",
       "      <td>140.093704</td>\n",
       "      <td>140.812500</td>\n",
       "      <td>5158100.0</td>\n",
       "      <td>0.0</td>\n",
       "      <td>1.0</td>\n",
       "      <td>99.783678</td>\n",
       "      <td>100.170640</td>\n",
       "      <td>99.142306</td>\n",
       "      <td>99.650987</td>\n",
       "      <td>5158100.0</td>\n",
       "      <td>2.981256</td>\n",
       "      <td>0.429631</td>\n",
       "      <td>33.743535</td>\n",
       "    </tr>\n",
       "    <tr>\n",
       "      <th>2000-01-27</th>\n",
       "      <td>141.843704</td>\n",
       "      <td>142.218704</td>\n",
       "      <td>138.125000</td>\n",
       "      <td>140.250000</td>\n",
       "      <td>10922700.0</td>\n",
       "      <td>0.0</td>\n",
       "      <td>1.0</td>\n",
       "      <td>100.380756</td>\n",
       "      <td>100.646138</td>\n",
       "      <td>97.749082</td>\n",
       "      <td>99.252914</td>\n",
       "      <td>10922700.0</td>\n",
       "      <td>2.731241</td>\n",
       "      <td>0.692450</td>\n",
       "      <td>31.382562</td>\n",
       "    </tr>\n",
       "    <tr>\n",
       "      <th>2000-01-28</th>\n",
       "      <td>139.437500</td>\n",
       "      <td>140.062500</td>\n",
       "      <td>135.531204</td>\n",
       "      <td>135.875000</td>\n",
       "      <td>11916200.0</td>\n",
       "      <td>0.0</td>\n",
       "      <td>1.0</td>\n",
       "      <td>98.677920</td>\n",
       "      <td>99.120223</td>\n",
       "      <td>95.913490</td>\n",
       "      <td>96.156789</td>\n",
       "      <td>11916200.0</td>\n",
       "      <td>3.839574</td>\n",
       "      <td>1.450097</td>\n",
       "      <td>18.677364</td>\n",
       "    </tr>\n",
       "    <tr>\n",
       "      <th>2000-01-31</th>\n",
       "      <td>135.812500</td>\n",
       "      <td>139.671799</td>\n",
       "      <td>135.000000</td>\n",
       "      <td>139.562500</td>\n",
       "      <td>10768700.0</td>\n",
       "      <td>0.0</td>\n",
       "      <td>1.0</td>\n",
       "      <td>96.112559</td>\n",
       "      <td>98.843730</td>\n",
       "      <td>95.537564</td>\n",
       "      <td>98.766380</td>\n",
       "      <td>10768700.0</td>\n",
       "      <td>3.515620</td>\n",
       "      <td>1.327988</td>\n",
       "      <td>42.992984</td>\n",
       "    </tr>\n",
       "  </tbody>\n",
       "</table>\n",
       "</div>"
      ],
      "text/plain": [
       "                  Open        High         Low       Close      Volume  \\\n",
       "Date                                                                     \n",
       "2000-01-03  148.250000  148.250000  143.875000  145.437500   8164300.0   \n",
       "2000-01-04  143.531204  144.062500  139.640594  139.750000   8089800.0   \n",
       "2000-01-05  139.937500  141.531204  137.250000  140.000000  12177900.0   \n",
       "2000-01-06  139.625000  141.500000  137.750000  137.750000   6227200.0   \n",
       "2000-01-07  140.312500  145.750000  140.062500  145.750000   8066500.0   \n",
       "2000-01-10  146.250000  146.906204  145.031204  146.250000   5741700.0   \n",
       "2000-01-11  145.812500  146.093704  143.500000  144.500000   7503700.0   \n",
       "2000-01-12  144.593704  144.593704  142.875000  143.062500   6907700.0   \n",
       "2000-01-13  144.468704  145.750000  143.281204  145.000000   5158300.0   \n",
       "2000-01-14  146.531204  147.468704  145.968704  146.968704   7437300.0   \n",
       "2000-01-18  145.343704  146.625000  145.187500  145.812500   6488500.0   \n",
       "2000-01-19  145.312500  147.000000  145.000000  147.000000   6157900.0   \n",
       "2000-01-20  146.968704  146.968704  143.812500  144.750000   5800100.0   \n",
       "2000-01-21  145.500000  145.500000  144.062500  144.437500   6244800.0   \n",
       "2000-01-24  145.656204  145.843704  139.406204  140.343704   7896900.0   \n",
       "2000-01-25  140.515594  141.937500  139.000000  141.937500   9942500.0   \n",
       "2000-01-26  141.000000  141.546799  140.093704  140.812500   5158100.0   \n",
       "2000-01-27  141.843704  142.218704  138.125000  140.250000  10922700.0   \n",
       "2000-01-28  139.437500  140.062500  135.531204  135.875000  11916200.0   \n",
       "2000-01-31  135.812500  139.671799  135.000000  139.562500  10768700.0   \n",
       "\n",
       "            Dividend  Split    Adj_Open    Adj_High     Adj_Low   Adj_Close  \\\n",
       "Date                                                                          \n",
       "2000-01-03       0.0    1.0  104.914399  104.914399  101.818275  102.924034   \n",
       "2000-01-04       0.0    1.0  101.574975  101.950966   98.821646   98.899071   \n",
       "2000-01-05       0.0    1.0   99.031762  100.159604   97.129857   99.075993   \n",
       "2000-01-06       0.0    1.0   98.810611  100.137521   97.483700   97.483700   \n",
       "2000-01-07       0.0    1.0   99.297145  103.145185   99.120223  103.145185   \n",
       "2000-01-10       0.0    1.0  103.499028  103.963414  102.636504  103.499028   \n",
       "2000-01-11       0.0    1.0  103.189416  103.388420  101.552893  102.260578   \n",
       "2000-01-12       0.0    1.0  102.326891  102.326891  101.110589  101.243280   \n",
       "2000-01-13       0.0    1.0  102.238430  103.145185  101.398054  102.614421   \n",
       "2000-01-14       0.0    1.0  103.698032  104.361487  103.299959  104.007645   \n",
       "2000-01-18       0.0    1.0  102.857655  103.764410  102.747112  103.189416   \n",
       "2000-01-19       0.0    1.0  102.835573  104.029792  102.614421  104.029792   \n",
       "2000-01-20       0.0    1.0  104.007645  104.007645  101.774044  102.437500   \n",
       "2000-01-21       0.0    1.0  102.968264  102.968264  101.950966  102.216348   \n",
       "2000-01-24       0.0    1.0  103.078807  103.211498   98.655772   99.319227   \n",
       "2000-01-25       0.0    1.0   99.440871  100.447134   98.368307  100.447134   \n",
       "2000-01-26       0.0    1.0   99.783678  100.170640   99.142306   99.650987   \n",
       "2000-01-27       0.0    1.0  100.380756  100.646138   97.749082   99.252914   \n",
       "2000-01-28       0.0    1.0   98.677920   99.120223   95.913490   96.156789   \n",
       "2000-01-31       0.0    1.0   96.112559   98.843730   95.537564   98.766380   \n",
       "\n",
       "            Adj_Volume  sma_diff  ema_diff        rsi  \n",
       "Date                                                   \n",
       "2000-01-03   8164300.0       NaN       NaN        NaN  \n",
       "2000-01-04   8089800.0       NaN       NaN        NaN  \n",
       "2000-01-05  12177900.0       NaN       NaN        NaN  \n",
       "2000-01-06   6227200.0       NaN       NaN        NaN  \n",
       "2000-01-07   8066500.0       NaN       NaN        NaN  \n",
       "2000-01-10   5741700.0       NaN       NaN  52.434457  \n",
       "2000-01-11   7503700.0       NaN       NaN  46.357616  \n",
       "2000-01-12   6907700.0       NaN       NaN  41.427779  \n",
       "2000-01-13   5158300.0       NaN       NaN  50.327412  \n",
       "2000-01-14   7437300.0 -1.563531       NaN  58.362860  \n",
       "2000-01-18   6488500.0 -2.442698       NaN  52.167617  \n",
       "2000-01-19   6157900.0 -2.384364       NaN  57.904391  \n",
       "2000-01-20   5800100.0 -1.169796 -1.297712  45.094896  \n",
       "2000-01-21   6244800.0 -0.042713 -0.989094  43.427041  \n",
       "2000-01-24   7896900.0  1.635423 -0.174946  27.046502  \n",
       "2000-01-25   9942500.0  2.141673  0.102968  38.361106  \n",
       "2000-01-26   5158100.0  2.981256  0.429631  33.743535  \n",
       "2000-01-27  10922700.0  2.731241  0.692450  31.382562  \n",
       "2000-01-28  11916200.0  3.839574  1.450097  18.677364  \n",
       "2000-01-31  10768700.0  3.515620  1.327988  42.992984  "
      ]
     },
     "execution_count": 27,
     "metadata": {},
     "output_type": "execute_result"
    }
   ],
   "source": [
    "data.head(20)"
   ]
  },
  {
   "cell_type": "code",
   "execution_count": 28,
   "metadata": {},
   "outputs": [],
   "source": [
    "data.drop(columns=['Open','High','Low','Adj_Open','Adj_High','Adj_Low','Adj_Volume','Adj_Close', 'Dividend', 'Split', 'Volume'], inplace=True)"
   ]
  },
  {
   "cell_type": "code",
   "execution_count": 29,
   "metadata": {},
   "outputs": [],
   "source": [
    "data.dropna(inplace=True)"
   ]
  },
  {
   "cell_type": "code",
   "execution_count": 30,
   "metadata": {},
   "outputs": [
    {
     "data": {
      "text/html": [
       "<div>\n",
       "<style scoped>\n",
       "    .dataframe tbody tr th:only-of-type {\n",
       "        vertical-align: middle;\n",
       "    }\n",
       "\n",
       "    .dataframe tbody tr th {\n",
       "        vertical-align: top;\n",
       "    }\n",
       "\n",
       "    .dataframe thead th {\n",
       "        text-align: right;\n",
       "    }\n",
       "</style>\n",
       "<table border=\"1\" class=\"dataframe\">\n",
       "  <thead>\n",
       "    <tr style=\"text-align: right;\">\n",
       "      <th></th>\n",
       "      <th>Close</th>\n",
       "      <th>sma_diff</th>\n",
       "      <th>ema_diff</th>\n",
       "      <th>rsi</th>\n",
       "    </tr>\n",
       "    <tr>\n",
       "      <th>Date</th>\n",
       "      <th></th>\n",
       "      <th></th>\n",
       "      <th></th>\n",
       "      <th></th>\n",
       "    </tr>\n",
       "  </thead>\n",
       "  <tbody>\n",
       "    <tr>\n",
       "      <th>2018-06-18</th>\n",
       "      <td>276.56</td>\n",
       "      <td>0.125667</td>\n",
       "      <td>-0.920804</td>\n",
       "      <td>42.957112</td>\n",
       "    </tr>\n",
       "    <tr>\n",
       "      <th>2018-06-19</th>\n",
       "      <td>275.50</td>\n",
       "      <td>1.242333</td>\n",
       "      <td>-0.520437</td>\n",
       "      <td>33.402330</td>\n",
       "    </tr>\n",
       "    <tr>\n",
       "      <th>2018-06-20</th>\n",
       "      <td>275.97</td>\n",
       "      <td>1.486000</td>\n",
       "      <td>-0.321215</td>\n",
       "      <td>40.711352</td>\n",
       "    </tr>\n",
       "    <tr>\n",
       "      <th>2018-06-21</th>\n",
       "      <td>274.24</td>\n",
       "      <td>1.946333</td>\n",
       "      <td>0.061011</td>\n",
       "      <td>27.051420</td>\n",
       "    </tr>\n",
       "    <tr>\n",
       "      <th>2018-06-22</th>\n",
       "      <td>274.74</td>\n",
       "      <td>1.854667</td>\n",
       "      <td>0.221109</td>\n",
       "      <td>34.938091</td>\n",
       "    </tr>\n",
       "    <tr>\n",
       "      <th>2018-06-25</th>\n",
       "      <td>271.00</td>\n",
       "      <td>2.755333</td>\n",
       "      <td>0.844388</td>\n",
       "      <td>17.374752</td>\n",
       "    </tr>\n",
       "    <tr>\n",
       "      <th>2018-06-26</th>\n",
       "      <td>271.60</td>\n",
       "      <td>2.903333</td>\n",
       "      <td>1.105809</td>\n",
       "      <td>24.941313</td>\n",
       "    </tr>\n",
       "    <tr>\n",
       "      <th>2018-06-27</th>\n",
       "      <td>269.35</td>\n",
       "      <td>3.832000</td>\n",
       "      <td>1.542156</td>\n",
       "      <td>17.450428</td>\n",
       "    </tr>\n",
       "    <tr>\n",
       "      <th>2018-06-28</th>\n",
       "      <td>270.89</td>\n",
       "      <td>3.084667</td>\n",
       "      <td>1.526362</td>\n",
       "      <td>34.325907</td>\n",
       "    </tr>\n",
       "    <tr>\n",
       "      <th>2018-06-29</th>\n",
       "      <td>271.28</td>\n",
       "      <td>2.606333</td>\n",
       "      <td>1.398678</td>\n",
       "      <td>38.317594</td>\n",
       "    </tr>\n",
       "  </tbody>\n",
       "</table>\n",
       "</div>"
      ],
      "text/plain": [
       "             Close  sma_diff  ema_diff        rsi\n",
       "Date                                             \n",
       "2018-06-18  276.56  0.125667 -0.920804  42.957112\n",
       "2018-06-19  275.50  1.242333 -0.520437  33.402330\n",
       "2018-06-20  275.97  1.486000 -0.321215  40.711352\n",
       "2018-06-21  274.24  1.946333  0.061011  27.051420\n",
       "2018-06-22  274.74  1.854667  0.221109  34.938091\n",
       "2018-06-25  271.00  2.755333  0.844388  17.374752\n",
       "2018-06-26  271.60  2.903333  1.105809  24.941313\n",
       "2018-06-27  269.35  3.832000  1.542156  17.450428\n",
       "2018-06-28  270.89  3.084667  1.526362  34.325907\n",
       "2018-06-29  271.28  2.606333  1.398678  38.317594"
      ]
     },
     "execution_count": 30,
     "metadata": {},
     "output_type": "execute_result"
    }
   ],
   "source": [
    "data.tail(10)"
   ]
  },
  {
   "cell_type": "code",
   "execution_count": 31,
   "metadata": {},
   "outputs": [],
   "source": [
    "#Save Scoring Test Dataset as pickle for later use\n",
    "test_df = data.iloc[-10:]\n",
    "test_df.to_pickle(TEST_DATA_PATH)"
   ]
  },
  {
   "cell_type": "markdown",
   "metadata": {},
   "source": [
    "## Plotting/Visualization of the Data"
   ]
  },
  {
   "cell_type": "code",
   "execution_count": 32,
   "metadata": {},
   "outputs": [
    {
     "data": {
      "text/plain": [
       "Text(0,0.5,'ema_diff')"
      ]
     },
     "execution_count": 32,
     "metadata": {},
     "output_type": "execute_result"
    },
    {
     "data": {
      "image/png": "[encoded data removed]",
      "text/plain": [
       "<Figure size 1152x648 with 2 Axes>"
      ]
     },
     "metadata": {
      "needs_background": "light"
     },
     "output_type": "display_data"
    }
   ],
   "source": [
    "plt.figure(figsize=(16,9))\n",
    "top = plt.subplot2grid((4,4), (0, 0), rowspan=3, colspan=4)\n",
    "bottom = plt.subplot2grid((4,4), (3,0), rowspan=1, colspan=4)\n",
    "top.plot(data.index, data['Close']) #CMT.index gives the dates\n",
    "bottom.bar(data.index, data['ema_diff']) \n",
    " \n",
    "# set the labels\n",
    "top.axes.get_xaxis().set_visible(False)\n",
    "top.set_title(TICKER)\n",
    "top.set_ylabel('Closing Price')\n",
    "bottom.set_ylabel('ema_diff')"
   ]
  },
  {
   "cell_type": "code",
   "execution_count": 34,
   "metadata": {},
   "outputs": [
    {
     "data": {
      "text/plain": [
       "<matplotlib.axes._subplots.AxesSubplot at 0x7f22f6749e10>"
      ]
     },
     "execution_count": 34,
     "metadata": {},
     "output_type": "execute_result"
    },
    {
     "data": {
      "image/png": "[encoded data removed]",
      "text/plain": [
       "<Figure size 1152x648 with 1 Axes>"
      ]
     },
     "metadata": {
      "needs_background": "light"
     },
     "output_type": "display_data"
    }
   ],
   "source": [
    "import seaborn as sns\n",
    "plt.figure(figsize=(16,9))\n",
    "sns.distplot(data['Close'].dropna(), bins=50, color='purple')"
   ]
  },
  {
   "cell_type": "code",
   "execution_count": 35,
   "metadata": {},
   "outputs": [
    {
     "data": {
      "image/png": "[encoded data removed]",
      "text/plain": [
       "<Figure size 1152x648 with 1 Axes>"
      ]
     },
     "metadata": {
      "needs_background": "light"
     },
     "output_type": "display_data"
    }
   ],
   "source": [
    "# simple moving averages\n",
    "if use_features:\n",
    "    sma = pandas.DataFrame({\"RSI\": data['rsi'][:90], 'EMA DIFF': data['ema_diff'][:90], 'SMA DIFF': data['sma_diff'][:90]})\n",
    "    sma.plot(figsize=(16, 9), legend=True, title=TICKER)"
   ]
  },
  {
   "cell_type": "markdown",
   "metadata": {},
   "source": [
    "# Add the Target column -> Price at X days in the future"
   ]
  },
  {
   "cell_type": "code",
   "execution_count": 36,
   "metadata": {},
   "outputs": [],
   "source": [
    "shift_days_target = 3"
   ]
  },
  {
   "cell_type": "code",
   "execution_count": 37,
   "metadata": {},
   "outputs": [],
   "source": [
    "run.log('shift_days_target', shift_days_target)"
   ]
  },
  {
   "cell_type": "code",
   "execution_count": 38,
   "metadata": {},
   "outputs": [],
   "source": [
    "## Add the target (price X days in the future)\n",
    "data['target'] = data.Close.shift(-shift_days_target)"
   ]
  },
  {
   "cell_type": "code",
   "execution_count": 39,
   "metadata": {},
   "outputs": [],
   "source": [
    "data.dropna(inplace=True)"
   ]
  },
  {
   "cell_type": "code",
   "execution_count": 40,
   "metadata": {
    "scrolled": true
   },
   "outputs": [
    {
     "data": {
      "text/html": [
       "<div>\n",
       "<style scoped>\n",
       "    .dataframe tbody tr th:only-of-type {\n",
       "        vertical-align: middle;\n",
       "    }\n",
       "\n",
       "    .dataframe tbody tr th {\n",
       "        vertical-align: top;\n",
       "    }\n",
       "\n",
       "    .dataframe thead th {\n",
       "        text-align: right;\n",
       "    }\n",
       "</style>\n",
       "<table border=\"1\" class=\"dataframe\">\n",
       "  <thead>\n",
       "    <tr style=\"text-align: right;\">\n",
       "      <th></th>\n",
       "      <th>Close</th>\n",
       "      <th>sma_diff</th>\n",
       "      <th>ema_diff</th>\n",
       "      <th>rsi</th>\n",
       "      <th>target</th>\n",
       "    </tr>\n",
       "    <tr>\n",
       "      <th>Date</th>\n",
       "      <th></th>\n",
       "      <th></th>\n",
       "      <th></th>\n",
       "      <th></th>\n",
       "      <th></th>\n",
       "    </tr>\n",
       "  </thead>\n",
       "  <tbody>\n",
       "    <tr>\n",
       "      <th>2000-01-20</th>\n",
       "      <td>144.750000</td>\n",
       "      <td>-1.169796</td>\n",
       "      <td>-1.297712</td>\n",
       "      <td>45.094896</td>\n",
       "      <td>141.937500</td>\n",
       "    </tr>\n",
       "    <tr>\n",
       "      <th>2000-01-21</th>\n",
       "      <td>144.437500</td>\n",
       "      <td>-0.042713</td>\n",
       "      <td>-0.989094</td>\n",
       "      <td>43.427041</td>\n",
       "      <td>140.812500</td>\n",
       "    </tr>\n",
       "    <tr>\n",
       "      <th>2000-01-24</th>\n",
       "      <td>140.343704</td>\n",
       "      <td>1.635423</td>\n",
       "      <td>-0.174946</td>\n",
       "      <td>27.046502</td>\n",
       "      <td>140.250000</td>\n",
       "    </tr>\n",
       "    <tr>\n",
       "      <th>2000-01-25</th>\n",
       "      <td>141.937500</td>\n",
       "      <td>2.141673</td>\n",
       "      <td>0.102968</td>\n",
       "      <td>38.361106</td>\n",
       "      <td>135.875000</td>\n",
       "    </tr>\n",
       "    <tr>\n",
       "      <th>2000-01-26</th>\n",
       "      <td>140.812500</td>\n",
       "      <td>2.981256</td>\n",
       "      <td>0.429631</td>\n",
       "      <td>33.743535</td>\n",
       "      <td>139.562500</td>\n",
       "    </tr>\n",
       "    <tr>\n",
       "      <th>2000-01-27</th>\n",
       "      <td>140.250000</td>\n",
       "      <td>2.731241</td>\n",
       "      <td>0.692450</td>\n",
       "      <td>31.382562</td>\n",
       "      <td>140.937500</td>\n",
       "    </tr>\n",
       "    <tr>\n",
       "      <th>2000-01-28</th>\n",
       "      <td>135.875000</td>\n",
       "      <td>3.839574</td>\n",
       "      <td>1.450097</td>\n",
       "      <td>18.677364</td>\n",
       "      <td>141.062500</td>\n",
       "    </tr>\n",
       "    <tr>\n",
       "      <th>2000-01-31</th>\n",
       "      <td>139.562500</td>\n",
       "      <td>3.515620</td>\n",
       "      <td>1.327988</td>\n",
       "      <td>42.992984</td>\n",
       "      <td>143.187500</td>\n",
       "    </tr>\n",
       "    <tr>\n",
       "      <th>2000-02-01</th>\n",
       "      <td>140.937500</td>\n",
       "      <td>2.798954</td>\n",
       "      <td>1.002596</td>\n",
       "      <td>49.965988</td>\n",
       "      <td>142.593704</td>\n",
       "    </tr>\n",
       "    <tr>\n",
       "      <th>2000-02-02</th>\n",
       "      <td>141.062500</td>\n",
       "      <td>0.476037</td>\n",
       "      <td>0.744597</td>\n",
       "      <td>50.651917</td>\n",
       "      <td>142.375000</td>\n",
       "    </tr>\n",
       "    <tr>\n",
       "      <th>2000-02-03</th>\n",
       "      <td>143.187500</td>\n",
       "      <td>-0.888546</td>\n",
       "      <td>0.252675</td>\n",
       "      <td>61.784826</td>\n",
       "      <td>144.312500</td>\n",
       "    </tr>\n",
       "    <tr>\n",
       "      <th>2000-02-04</th>\n",
       "      <td>142.593704</td>\n",
       "      <td>-1.624994</td>\n",
       "      <td>0.026013</td>\n",
       "      <td>57.271802</td>\n",
       "      <td>141.281204</td>\n",
       "    </tr>\n",
       "    <tr>\n",
       "      <th>2000-02-07</th>\n",
       "      <td>142.375000</td>\n",
       "      <td>-1.859364</td>\n",
       "      <td>-0.082578</td>\n",
       "      <td>55.408466</td>\n",
       "      <td>141.562500</td>\n",
       "    </tr>\n",
       "    <tr>\n",
       "      <th>2000-02-08</th>\n",
       "      <td>144.312500</td>\n",
       "      <td>-1.996864</td>\n",
       "      <td>-0.422477</td>\n",
       "      <td>67.218963</td>\n",
       "      <td>138.687500</td>\n",
       "    </tr>\n",
       "    <tr>\n",
       "      <th>2000-02-09</th>\n",
       "      <td>141.281204</td>\n",
       "      <td>-1.512494</td>\n",
       "      <td>-0.180293</td>\n",
       "      <td>44.281870</td>\n",
       "      <td>139.500000</td>\n",
       "    </tr>\n",
       "  </tbody>\n",
       "</table>\n",
       "</div>"
      ],
      "text/plain": [
       "                 Close  sma_diff  ema_diff        rsi      target\n",
       "Date                                                             \n",
       "2000-01-20  144.750000 -1.169796 -1.297712  45.094896  141.937500\n",
       "2000-01-21  144.437500 -0.042713 -0.989094  43.427041  140.812500\n",
       "2000-01-24  140.343704  1.635423 -0.174946  27.046502  140.250000\n",
       "2000-01-25  141.937500  2.141673  0.102968  38.361106  135.875000\n",
       "2000-01-26  140.812500  2.981256  0.429631  33.743535  139.562500\n",
       "2000-01-27  140.250000  2.731241  0.692450  31.382562  140.937500\n",
       "2000-01-28  135.875000  3.839574  1.450097  18.677364  141.062500\n",
       "2000-01-31  139.562500  3.515620  1.327988  42.992984  143.187500\n",
       "2000-02-01  140.937500  2.798954  1.002596  49.965988  142.593704\n",
       "2000-02-02  141.062500  0.476037  0.744597  50.651917  142.375000\n",
       "2000-02-03  143.187500 -0.888546  0.252675  61.784826  144.312500\n",
       "2000-02-04  142.593704 -1.624994  0.026013  57.271802  141.281204\n",
       "2000-02-07  142.375000 -1.859364 -0.082578  55.408466  141.562500\n",
       "2000-02-08  144.312500 -1.996864 -0.422477  67.218963  138.687500\n",
       "2000-02-09  141.281204 -1.512494 -0.180293  44.281870  139.500000"
      ]
     },
     "execution_count": 40,
     "metadata": {},
     "output_type": "execute_result"
    }
   ],
   "source": [
    "data.head(15)"
   ]
  },
  {
   "cell_type": "markdown",
   "metadata": {},
   "source": [
    "# Data Normalization"
   ]
  },
  {
   "cell_type": "code",
   "execution_count": 41,
   "metadata": {},
   "outputs": [],
   "source": [
    "def normalize(df):\n",
    "    result = df.copy()\n",
    "    min_dict = {}\n",
    "    max_dict = {}\n",
    "    mean_dict = {}\n",
    "    std_dict = {}\n",
    "    \n",
    "    for feature_name in df.columns:\n",
    "        min_value = df[feature_name].min()\n",
    "        max_value = df[feature_name].max()     \n",
    "        min_dict[feature_name] = min_value;\n",
    "        max_dict[feature_name] = max_value;\n",
    "        result[feature_name] = (df[feature_name] - min_value) / (max_value - min_value)\n",
    "        \n",
    "    min_max_dict_list = [min_dict, max_dict]\n",
    "    \n",
    "    return result, min_max_dict_list"
   ]
  },
  {
   "cell_type": "code",
   "execution_count": 42,
   "metadata": {},
   "outputs": [],
   "source": [
    "df,  min_max_dict_list = normalize(data)"
   ]
  },
  {
   "cell_type": "code",
   "execution_count": 43,
   "metadata": {},
   "outputs": [
    {
     "data": {
      "text/html": [
       "<div>\n",
       "<style scoped>\n",
       "    .dataframe tbody tr th:only-of-type {\n",
       "        vertical-align: middle;\n",
       "    }\n",
       "\n",
       "    .dataframe tbody tr th {\n",
       "        vertical-align: top;\n",
       "    }\n",
       "\n",
       "    .dataframe thead th {\n",
       "        text-align: right;\n",
       "    }\n",
       "</style>\n",
       "<table border=\"1\" class=\"dataframe\">\n",
       "  <thead>\n",
       "    <tr style=\"text-align: right;\">\n",
       "      <th></th>\n",
       "      <th>Close</th>\n",
       "      <th>sma_diff</th>\n",
       "      <th>ema_diff</th>\n",
       "      <th>rsi</th>\n",
       "      <th>target</th>\n",
       "    </tr>\n",
       "    <tr>\n",
       "      <th>Date</th>\n",
       "      <th></th>\n",
       "      <th></th>\n",
       "      <th></th>\n",
       "      <th></th>\n",
       "      <th></th>\n",
       "    </tr>\n",
       "  </thead>\n",
       "  <tbody>\n",
       "    <tr>\n",
       "      <th>2000-01-20</th>\n",
       "      <td>0.350803</td>\n",
       "      <td>0.265638</td>\n",
       "      <td>0.207627</td>\n",
       "      <td>0.437583</td>\n",
       "      <td>0.337930</td>\n",
       "    </tr>\n",
       "    <tr>\n",
       "      <th>2000-01-21</th>\n",
       "      <td>0.349373</td>\n",
       "      <td>0.326314</td>\n",
       "      <td>0.234710</td>\n",
       "      <td>0.419709</td>\n",
       "      <td>0.332780</td>\n",
       "    </tr>\n",
       "    <tr>\n",
       "      <th>2000-01-24</th>\n",
       "      <td>0.330634</td>\n",
       "      <td>0.416655</td>\n",
       "      <td>0.306156</td>\n",
       "      <td>0.244165</td>\n",
       "      <td>0.330206</td>\n",
       "    </tr>\n",
       "    <tr>\n",
       "      <th>2000-01-25</th>\n",
       "      <td>0.337930</td>\n",
       "      <td>0.443909</td>\n",
       "      <td>0.330545</td>\n",
       "      <td>0.365419</td>\n",
       "      <td>0.310180</td>\n",
       "    </tr>\n",
       "    <tr>\n",
       "      <th>2000-01-26</th>\n",
       "      <td>0.332780</td>\n",
       "      <td>0.489108</td>\n",
       "      <td>0.359211</td>\n",
       "      <td>0.315935</td>\n",
       "      <td>0.327059</td>\n",
       "    </tr>\n",
       "  </tbody>\n",
       "</table>\n",
       "</div>"
      ],
      "text/plain": [
       "               Close  sma_diff  ema_diff       rsi    target\n",
       "Date                                                        \n",
       "2000-01-20  0.350803  0.265638  0.207627  0.437583  0.337930\n",
       "2000-01-21  0.349373  0.326314  0.234710  0.419709  0.332780\n",
       "2000-01-24  0.330634  0.416655  0.306156  0.244165  0.330206\n",
       "2000-01-25  0.337930  0.443909  0.330545  0.365419  0.310180\n",
       "2000-01-26  0.332780  0.489108  0.359211  0.315935  0.327059"
      ]
     },
     "execution_count": 43,
     "metadata": {},
     "output_type": "execute_result"
    }
   ],
   "source": [
    "df.head()"
   ]
  },
  {
   "cell_type": "code",
   "execution_count": 44,
   "metadata": {},
   "outputs": [],
   "source": [
    "df = df.astype('float32')"
   ]
  },
  {
   "cell_type": "code",
   "execution_count": 45,
   "metadata": {},
   "outputs": [
    {
     "name": "stdout",
     "output_type": "stream",
     "text": [
      "{'Close': 68.110001, 'sma_diff': -6.104154400000056, 'ema_diff': -3.66368113102817, 'rsi': 4.26271527994781, 'target': 68.110001}\n",
      "{'Close': 286.58, 'sma_diff': 12.471332266666792, 'ema_diff': 7.731594856915947, 'rsi': 97.57572579549975, 'target': 286.58}\n"
     ]
    }
   ],
   "source": [
    "print(min_max_dict_list[0]) # Min\n",
    "print(min_max_dict_list[1]) # Max"
   ]
  },
  {
   "cell_type": "markdown",
   "metadata": {},
   "source": [
    "# Saving the MIN and MAX values of each column\n",
    "We need to save these values max_dict and min_dict into a pickle file, because we are going to need them later in operationalization of the model in order to transfor the realtime data"
   ]
  },
  {
   "cell_type": "code",
   "execution_count": 46,
   "metadata": {},
   "outputs": [
    {
     "name": "stdout",
     "output_type": "stream",
     "text": [
      "Min-Max values saved\n"
     ]
    },
    {
     "data": {
      "text/plain": [
       "<azureml.restclient.models.batch_artifact_content_information_dto.BatchArtifactContentInformationDto at 0x7f1d3a211470>"
      ]
     },
     "execution_count": 46,
     "metadata": {},
     "output_type": "execute_result"
    }
   ],
   "source": [
    "import pickle\n",
    "\n",
    "with open(MIN_MAX_DICT, 'wb') as handle:\n",
    "    pickle.dump(min_max_dict_list, handle, protocol=pickle.HIGHEST_PROTOCOL)\n",
    "print(\"Min-Max values saved\")\n",
    "\n",
    "run.upload_file(name = 'outputs/'+ TICKER +'-min_max.pkl', path_or_stream = MODELS_DIR + TICKER +'-min_max.pkl' )\n"
   ]
  },
  {
   "cell_type": "markdown",
   "metadata": {},
   "source": [
    "# Function to load/prepare data for modeling"
   ]
  },
  {
   "cell_type": "code",
   "execution_count": 47,
   "metadata": {},
   "outputs": [],
   "source": [
    "def prepare_data_for_modeling(stock, seq_len):\n",
    "    stock = stock.reindex(sorted(stock.columns), axis=1) # To make sure columns are always with same order\n",
    "    data = stock.values #converts to numpy\n",
    "    result = []\n",
    "    for index in range(len(data) - seq_len + 1):\n",
    "        result.append(data[index: index + seq_len])\n",
    "\n",
    "    result = np.array(result)    \n",
    "    row = round(0.95 * result.shape[0])\n",
    "    train = result[:int(row), :]\n",
    "    test =  result[int(row):, :]\n",
    "    x_train = train[:,:,:-1] # All rows, all time steps, all feautures minus de last feature\n",
    "    y_train = train[:,-1,-1] # All rows, only the last step, the last feature\n",
    "    x_test = test[:,:,:-1] \n",
    "    y_test = test[:,-1,-1]\n",
    "\n",
    "    return [x_train, y_train, x_test, y_test]"
   ]
  },
  {
   "cell_type": "markdown",
   "metadata": {},
   "source": [
    "# Function to define the RNN model"
   ]
  },
  {
   "cell_type": "code",
   "execution_count": 49,
   "metadata": {},
   "outputs": [],
   "source": [
    "from livelossplot import PlotLossesKeras\n",
    "\n",
    "params = {'Dense': 32,\n",
    "          'Dense_1': 32,\n",
    "          'Dropout': 0.3,\n",
    "          'LSTM': 156,\n",
    "          'batch_size': 128,\n",
    "          'epochs': 1500,\n",
    "          'lr': 0.001,\n",
    "          'patience': 100,\n",
    "          'validation_split': 0.1\n",
    "         }\n",
    "\n",
    "run.log(\"LSTM\", params['LSTM'])\n",
    "run.log(\"Dropout\", params['Dropout'])\n",
    "run.log(\"Dense\", params['Dense'])\n",
    "run.log(\"Dense_1\", params['Dense_1'])\n",
    "run.log(\"lr\", params['lr'])\n",
    "run.log(\"epochs\", params['epochs'])\n",
    "run.log(\"patience\", params['patience'])\n",
    "run.log(\"validation_split\", params['validation_split'])\n",
    "\n",
    "\n",
    "def build_model(X_train, y_train):\n",
    "    model = Sequential()\n",
    "    model.add(LSTM(params['LSTM'], input_shape=(len(X_train[0]), len(X_train[0][0])),return_sequences=False))\n",
    "    model.add(Dropout(params['Dropout']))\n",
    "    model.add(Dense(params['Dense'], kernel_initializer=\"uniform\", activation='relu'))\n",
    "    model.add(Dense(params['Dense_1'], kernel_initializer=\"uniform\", activation='relu'))\n",
    "    model.add(Dense(1, kernel_initializer=\"uniform\", activation='relu'))\n",
    "    \n",
    "    adam = keras.optimizers.Adam(lr=params['lr'])\n",
    "    model.compile(loss='mse', optimizer=adam, metrics=['mae'])\n",
    "\n",
    "    # checkpoint\n",
    "    checkpoint = keras.callbacks.ModelCheckpoint(MODEL_WEIGHTS_BEST, \n",
    "                                                 monitor='val_loss', \n",
    "                                                 verbose=0, save_best_only=True, mode='min')\n",
    "    # Early Stop\n",
    "    earlystop = keras.callbacks.EarlyStopping(monitor='val_loss',min_delta=0, patience=params['patience'],verbose=1, mode='min')\n",
    "\n",
    "    history = model.fit(X_train,y_train,\n",
    "                        batch_size=params['batch_size'],\n",
    "                        epochs=params['epochs'],\n",
    "                        validation_split=params['validation_split'],\n",
    "                        verbose=0,\n",
    "                        shuffle=True,\n",
    "                        callbacks=[PlotLossesKeras(), checkpoint, earlystop])\n",
    "\n",
    "\n",
    "    return history, model"
   ]
  },
  {
   "cell_type": "markdown",
   "metadata": {},
   "source": [
    "# Run the model"
   ]
  },
  {
   "cell_type": "code",
   "execution_count": 50,
   "metadata": {},
   "outputs": [
    {
     "name": "stdout",
     "output_type": "stream",
     "text": [
      "X_train (4398, 10, 4)\n",
      "y_train (4398,)\n",
      "X_test (231, 10, 4)\n",
      "y_test (231,)\n"
     ]
    }
   ],
   "source": [
    "window = 10\n",
    "X_train, y_train, X_test, y_test = prepare_data_for_modeling(df, window) \n",
    "print(\"X_train\", X_train.shape)\n",
    "print(\"y_train\", y_train.shape)\n",
    "print(\"X_test\", X_test.shape)\n",
    "print(\"y_test\", y_test.shape)"
   ]
  },
  {
   "cell_type": "code",
   "execution_count": 51,
   "metadata": {},
   "outputs": [
    {
     "data": {
      "image/png": "[encoded data removed]",
      "text/plain": [
       "<Figure size 864x576 with 2 Axes>"
      ]
     },
     "metadata": {
      "needs_background": "light"
     },
     "output_type": "display_data"
    },
    {
     "name": "stdout",
     "output_type": "stream",
     "text": [
      "Epoch 00292: early stopping\n",
      "CPU times: user 6min 22s, sys: 3min 4s, total: 9min 26s\n",
      "Wall time: 3min 57s\n"
     ]
    }
   ],
   "source": [
    "%%time\n",
    "history, model = build_model(X_train, y_train)"
   ]
  },
  {
   "cell_type": "markdown",
   "metadata": {},
   "source": [
    "# Saving the model\n",
    "The LSTM network is made up of two components, the architecture and the model weights. We'll save these model components in two files, the architecture in a json file that the keras package can use to rebuild the model, and the weights of the last iteration/epoch in an HDF5 heirachy that rebuild the exact model. (the weights for the lowest loss epoch are saved by the checkpoint callback keras function)"
   ]
  },
  {
   "cell_type": "code",
   "execution_count": 52,
   "metadata": {},
   "outputs": [
    {
     "name": "stdout",
     "output_type": "stream",
     "text": [
      "Model saved\n"
     ]
    }
   ],
   "source": [
    "import os\n",
    "    \n",
    "# save model\n",
    "# serialize model architecture to JSON\n",
    "model_json = model.to_json()\n",
    "with open(LSTM_MODEL, \"w\") as json_file:\n",
    "    json_file.write(model_json)\n",
    "    \n",
    "testScore= model.evaluate(X_test, y_test, verbose=0)\n",
    "    \n",
    "# serialize the last epoch weights to HDF5\n",
    "model.save_weights(MODEL_WEIGHTS)\n",
    "print(\"Model saved\")"
   ]
  },
  {
   "cell_type": "markdown",
   "metadata": {},
   "source": [
    "# Check and plot results"
   ]
  },
  {
   "cell_type": "markdown",
   "metadata": {},
   "source": [
    "### Naive evaluation (assume that pred = current day close)"
   ]
  },
  {
   "cell_type": "code",
   "execution_count": 54,
   "metadata": {},
   "outputs": [
    {
     "name": "stdout",
     "output_type": "stream",
     "text": [
      "0.00025187526\n"
     ]
    }
   ],
   "source": [
    "from sklearn.metrics import mean_squared_error\n",
    "import math\n",
    "\n",
    "y_naive = np.roll(y_test,shift_days_target)\n",
    "naiveScore = mean_squared_error(y_test[shift_days_target:], y_naive[shift_days_target:], multioutput='uniform_average')\n",
    "\n",
    "run.log('mse_naive', naiveScore)\n",
    "print(naiveScore)"
   ]
  },
  {
   "cell_type": "code",
   "execution_count": 55,
   "metadata": {},
   "outputs": [
    {
     "name": "stdout",
     "output_type": "stream",
     "text": [
      "Last Weights loaded\n",
      "Train Score: 0.00015087 MSE (0.01228 RMSE)\n",
      "Test Score: 0.00045613 MSE (0.02136 RMSE)\n"
     ]
    }
   ],
   "source": [
    "# load last epoch weights into new model\n",
    "model.load_weights(MODEL_WEIGHTS)\n",
    "print(\"Last Weights loaded\")\n",
    "\n",
    "trainScore = model.evaluate(X_train, y_train, verbose=0)\n",
    "print('Train Score: %.8f MSE (%.5f RMSE)' % (trainScore[0], math.sqrt(trainScore[0])))\n",
    "\n",
    "testScore = model.evaluate(X_test, y_test, verbose=0)\n",
    "print('Test Score: %.8f MSE (%.5f RMSE)' % (testScore[0], math.sqrt(testScore[0])))\n",
    "\n",
    "run.log('mse_last_iter', testScore[0])"
   ]
  },
  {
   "cell_type": "code",
   "execution_count": 56,
   "metadata": {},
   "outputs": [],
   "source": [
    "yhat = model.predict(X_test)"
   ]
  },
  {
   "cell_type": "code",
   "execution_count": 57,
   "metadata": {},
   "outputs": [
    {
     "name": "stdout",
     "output_type": "stream",
     "text": [
      "Best Weights loaded\n",
      "Train Score: 0.00012976 MSE (0.01139 RMSE)\n",
      "Test Score: 0.00027684 MSE (0.01664 RMSE)\n"
     ]
    }
   ],
   "source": [
    "# load best epoch weights into new model\n",
    "model.load_weights(MODEL_WEIGHTS_BEST)\n",
    "print(\"Best Weights loaded\")\n",
    "\n",
    "trainScore_best = model.evaluate(X_train, y_train, verbose=0)\n",
    "print('Train Score: %.8f MSE (%.5f RMSE)' % (trainScore_best[0], math.sqrt(trainScore_best[0])))\n",
    "\n",
    "testScore_best = model.evaluate(X_test, y_test, verbose=0)\n",
    "print('Test Score: %.8f MSE (%.5f RMSE)' % (testScore_best[0], math.sqrt(testScore_best[0])))\n",
    "\n",
    "run.log('mse_best_iter', testScore_best[0])"
   ]
  },
  {
   "cell_type": "code",
   "execution_count": 58,
   "metadata": {},
   "outputs": [],
   "source": [
    "yhatbest = model.predict(X_test)"
   ]
  },
  {
   "cell_type": "code",
   "execution_count": 59,
   "metadata": {},
   "outputs": [],
   "source": [
    "# Let's revert the normalization before plotting with this fucntion\n",
    "def denormalize(array,min_max_dict_list):\n",
    "    result = array\n",
    "    min_dict = min_max_dict_list[0]\n",
    "    max_dict = min_max_dict_list[1]\n",
    "    result = array * (max_dict[\"Close\"] - min_dict[\"Close\"]) + min_dict[\"Close\"]\n",
    "    \n",
    "    return result"
   ]
  },
  {
   "cell_type": "code",
   "execution_count": 60,
   "metadata": {},
   "outputs": [],
   "source": [
    "y_naive_inv = denormalize(y_naive, min_max_dict_list)\n",
    "yhat_inv = denormalize(yhat, min_max_dict_list)\n",
    "yhatbest_inv = denormalize(yhatbest, min_max_dict_list)\n",
    "y_test_inv = denormalize(y_test, min_max_dict_list)"
   ]
  },
  {
   "cell_type": "code",
   "execution_count": 61,
   "metadata": {},
   "outputs": [
    {
     "data": {
      "application/javascript": [
       "IPython.OutputArea.prototype._should_scroll = function(lines) {\n",
       "    return false;\n",
       "}"
      ],
      "text/plain": [
       "<IPython.core.display.Javascript object>"
      ]
     },
     "metadata": {},
     "output_type": "display_data"
    }
   ],
   "source": [
    "%%javascript\n",
    "IPython.OutputArea.prototype._should_scroll = function(lines) {\n",
    "    return false;\n",
    "}"
   ]
  },
  {
   "cell_type": "code",
   "execution_count": 62,
   "metadata": {},
   "outputs": [
    {
     "name": "stdout",
     "output_type": "stream",
     "text": [
      "run id: 8135180d-9bb1-496e-9637-615802bdfc55\n"
     ]
    }
   ],
   "source": [
    "# save the model+best-weights with a unique identifier\n",
    "modelname = TICKER + \"-model-lstm-\" + os.environ['KERAS_BACKEND'] + \"-\" + str(shift_days_target) + \"day-\" + str(testScore_best[0]) + \".h5\"\n",
    "model.save(MODELS_DIR + modelname)\n",
    "\n",
    "run.upload_file(name = 'outputs/'+ modelname, path_or_stream = MODELS_DIR + modelname )\n",
    "\n",
    "# finish logging the run\n",
    "run.complete()\n",
    "run_id = run.id\n",
    "print (\"run id:\", run.id)"
   ]
  },
  {
   "cell_type": "code",
   "execution_count": 63,
   "metadata": {
    "scrolled": true
   },
   "outputs": [
    {
     "data": {
      "image/png": "[encoded data removed]",
      "text/plain": [
       "<Figure size 1152x648 with 1 Axes>"
      ]
     },
     "metadata": {
      "needs_background": "light"
     },
     "output_type": "display_data"
    }
   ],
   "source": [
    "plt.rcParams[\"figure.figsize\"] = [16,9]\n",
    "#plt.plot(yhat_inv[shift_days_target:],color='red', label='prediction')\n",
    "plt.plot(yhatbest_inv,color='green', label='prediction_best')\n",
    "plt.plot(y_naive_inv[shift_days_target:],color='orange', label='prediction_naive')\n",
    "plt.plot(y_test_inv[shift_days_target:],color='blue', label='y_test')\n",
    "plt.legend(loc='lower left')\n",
    "plt.show()"
   ]
  },
  {
   "cell_type": "markdown",
   "metadata": {},
   "source": [
    "You can view the UI here: https://aka.ms/mlextensions_dev"
   ]
  },
  {
   "cell_type": "code",
   "execution_count": null,
   "metadata": {},
   "outputs": [],
   "source": [
    "# #Optional Checkpoint\n",
    "rid = list(experiment.get_runs())[0].id\n",
    "print (rid)\n",
    "run = Run(experiment=experiment, run_id=rid)"
   ]
  },
  {
   "cell_type": "code",
   "execution_count": 68,
   "metadata": {},
   "outputs": [
    {
     "data": {
      "text/plain": [
       "{'ticker': 'SPY',\n",
       " 'use_features': 'yes',\n",
       " 'SMA_FAST': 3,\n",
       " 'SMA_SLOW': 10,\n",
       " 'EMA_FAST': 6,\n",
       " 'EMA_SLOW': 13,\n",
       " 'RSI_PERIOD': 5,\n",
       " 'shift_days_target': 3,\n",
       " 'LSTM': 156,\n",
       " 'Dropout': 0.3,\n",
       " 'Dense': 32,\n",
       " 'Dense_1': 32,\n",
       " 'lr': 0.001,\n",
       " 'epochs': 1500,\n",
       " 'patience': 100,\n",
       " 'validation_split': 0.1,\n",
       " 'mse_naive': 0.00025187525898218155,\n",
       " 'mse_last_iter': 0.00045613069560361655,\n",
       " 'mse_best_iter': 0.00027683653969653315}"
      ]
     },
     "execution_count": 68,
     "metadata": {},
     "output_type": "execute_result"
    }
   ],
   "source": [
    "# get all metris logged in the run\n",
    "run.get_metrics()"
   ]
  },
  {
   "cell_type": "code",
   "execution_count": 70,
   "metadata": {},
   "outputs": [
    {
     "name": "stderr",
     "output_type": "stream",
     "text": [
      "Unstable, may be removed in the future\n"
     ]
    },
    {
     "name": "stdout",
     "output_type": "stream",
     "text": [
      "1\n",
      "{'ticker': 'SPY', 'use_features': 'yes', 'SMA_FAST': 3, 'SMA_SLOW': 10, 'EMA_FAST': 6, 'EMA_SLOW': 13, 'RSI_PERIOD': 5, 'shift_days_target': 3, 'LSTM': 156, 'Dropout': 0.3, 'Dense': 32, 'Dense_1': 32, 'lr': 0.001, 'epochs': 1500, 'patience': 100, 'validation_split': 0.1, 'mse_naive': 0.00025187525898218155, 'mse_last_iter': 0.00045613069560361655, 'mse_best_iter': 0.00027683653969653315}\n",
      "['outputs/SPY-min_max.pkl', 'outputs/SPY-model-lstm-tensorflow-3day-0.00027683653969653315.h5']\n"
     ]
    }
   ],
   "source": [
    "runs = experiment.get_runs()\n",
    "\n",
    "for r in runs:\n",
    "    print (r.number)\n",
    "    print (r.get_metrics())\n",
    "    print (r.get_file_names())"
   ]
  },
  {
   "cell_type": "markdown",
   "metadata": {},
   "source": [
    "# Load saved model "
   ]
  },
  {
   "cell_type": "markdown",
   "metadata": {},
   "source": [
    "To test the save operations, we can reload the model files into a test model loaded_model and rescore the test dataset."
   ]
  },
  {
   "cell_type": "code",
   "execution_count": 71,
   "metadata": {},
   "outputs": [
    {
     "name": "stdout",
     "output_type": "stream",
     "text": [
      "Model Loaded\n",
      "Weights loaded\n",
      "Min_max List loaded\n"
     ]
    }
   ],
   "source": [
    "from keras.models import model_from_json\n",
    "\n",
    "# load json and create model\n",
    "json_file = open(LSTM_MODEL, 'r')\n",
    "loaded_model_json = json_file.read()\n",
    "json_file.close()\n",
    "loaded_model = model_from_json(loaded_model_json)\n",
    "print(\"Model Loaded\")\n",
    "\n",
    "# load weights into new model\n",
    "loaded_model.load_weights(MODEL_WEIGHTS_BEST)\n",
    "print(\"Weights loaded\")\n",
    "\n",
    "# Load Min Max list values\n",
    "with open(MIN_MAX_DICT, 'rb') as handle:\n",
    "    loaded_min_max_dict_list = pickle.load(handle)\n",
    "\n",
    "if (min_max_dict_list == loaded_min_max_dict_list):\n",
    "    print(\"Min_max List loaded\")"
   ]
  },
  {
   "cell_type": "markdown",
   "metadata": {},
   "source": [
    "The model constructed from storage can be used to predict"
   ]
  },
  {
   "cell_type": "code",
   "execution_count": 72,
   "metadata": {},
   "outputs": [
    {
     "name": "stdout",
     "output_type": "stream",
     "text": [
      "[[[0.81223965 0.2643392  0.7813765  0.22824828]\n",
      "  [0.8121023  0.25132695 0.7750538  0.2210524 ]\n",
      "  [0.8126974  0.2445951  0.78503126 0.21737368]\n",
      "  [0.8187852  0.22693929 0.8662528  0.2144307 ]\n",
      "  [0.8192887  0.21861058 0.87163174 0.22151889]\n",
      "  [0.8182817  0.22046934 0.80040014 0.22530523]\n",
      "  [0.81800705 0.2264836  0.77857995 0.25231215]\n",
      "  [0.8207534  0.22652246 0.8388918  0.2747252 ]\n",
      "  [0.8207992  0.2302979  0.8398372  0.28326693]\n",
      "  [0.81974643 0.23921566 0.7275096  0.29141387]]]\n",
      "(1, 10, 4)\n",
      "(1, 1)\n",
      "[[246.79442]]\n"
     ]
    }
   ],
   "source": [
    "test_row = X_test[:1]\n",
    "print(test_row)\n",
    "print(test_row.shape)\n",
    "score = loaded_model.predict(test_row)\n",
    "print(score.shape)\n",
    "print(denormalize(score,min_max_dict_list))"
   ]
  },
  {
   "cell_type": "markdown",
   "metadata": {},
   "source": [
    "## Score on Test df"
   ]
  },
  {
   "cell_type": "code",
   "execution_count": 73,
   "metadata": {},
   "outputs": [
    {
     "data": {
      "text/html": [
       "<div>\n",
       "<style scoped>\n",
       "    .dataframe tbody tr th:only-of-type {\n",
       "        vertical-align: middle;\n",
       "    }\n",
       "\n",
       "    .dataframe tbody tr th {\n",
       "        vertical-align: top;\n",
       "    }\n",
       "\n",
       "    .dataframe thead th {\n",
       "        text-align: right;\n",
       "    }\n",
       "</style>\n",
       "<table border=\"1\" class=\"dataframe\">\n",
       "  <thead>\n",
       "    <tr style=\"text-align: right;\">\n",
       "      <th></th>\n",
       "      <th>Close</th>\n",
       "      <th>sma_diff</th>\n",
       "      <th>ema_diff</th>\n",
       "      <th>rsi</th>\n",
       "    </tr>\n",
       "    <tr>\n",
       "      <th>Date</th>\n",
       "      <th></th>\n",
       "      <th></th>\n",
       "      <th></th>\n",
       "      <th></th>\n",
       "    </tr>\n",
       "  </thead>\n",
       "  <tbody>\n",
       "    <tr>\n",
       "      <th>2018-06-18</th>\n",
       "      <td>276.56</td>\n",
       "      <td>0.125667</td>\n",
       "      <td>-0.920804</td>\n",
       "      <td>42.957112</td>\n",
       "    </tr>\n",
       "    <tr>\n",
       "      <th>2018-06-19</th>\n",
       "      <td>275.50</td>\n",
       "      <td>1.242333</td>\n",
       "      <td>-0.520437</td>\n",
       "      <td>33.402330</td>\n",
       "    </tr>\n",
       "    <tr>\n",
       "      <th>2018-06-20</th>\n",
       "      <td>275.97</td>\n",
       "      <td>1.486000</td>\n",
       "      <td>-0.321215</td>\n",
       "      <td>40.711352</td>\n",
       "    </tr>\n",
       "    <tr>\n",
       "      <th>2018-06-21</th>\n",
       "      <td>274.24</td>\n",
       "      <td>1.946333</td>\n",
       "      <td>0.061011</td>\n",
       "      <td>27.051420</td>\n",
       "    </tr>\n",
       "    <tr>\n",
       "      <th>2018-06-22</th>\n",
       "      <td>274.74</td>\n",
       "      <td>1.854667</td>\n",
       "      <td>0.221109</td>\n",
       "      <td>34.938091</td>\n",
       "    </tr>\n",
       "    <tr>\n",
       "      <th>2018-06-25</th>\n",
       "      <td>271.00</td>\n",
       "      <td>2.755333</td>\n",
       "      <td>0.844388</td>\n",
       "      <td>17.374752</td>\n",
       "    </tr>\n",
       "    <tr>\n",
       "      <th>2018-06-26</th>\n",
       "      <td>271.60</td>\n",
       "      <td>2.903333</td>\n",
       "      <td>1.105809</td>\n",
       "      <td>24.941313</td>\n",
       "    </tr>\n",
       "    <tr>\n",
       "      <th>2018-06-27</th>\n",
       "      <td>269.35</td>\n",
       "      <td>3.832000</td>\n",
       "      <td>1.542156</td>\n",
       "      <td>17.450428</td>\n",
       "    </tr>\n",
       "    <tr>\n",
       "      <th>2018-06-28</th>\n",
       "      <td>270.89</td>\n",
       "      <td>3.084667</td>\n",
       "      <td>1.526362</td>\n",
       "      <td>34.325907</td>\n",
       "    </tr>\n",
       "    <tr>\n",
       "      <th>2018-06-29</th>\n",
       "      <td>271.28</td>\n",
       "      <td>2.606333</td>\n",
       "      <td>1.398678</td>\n",
       "      <td>38.317594</td>\n",
       "    </tr>\n",
       "  </tbody>\n",
       "</table>\n",
       "</div>"
      ],
      "text/plain": [
       "             Close  sma_diff  ema_diff        rsi\n",
       "Date                                             \n",
       "2018-06-18  276.56  0.125667 -0.920804  42.957112\n",
       "2018-06-19  275.50  1.242333 -0.520437  33.402330\n",
       "2018-06-20  275.97  1.486000 -0.321215  40.711352\n",
       "2018-06-21  274.24  1.946333  0.061011  27.051420\n",
       "2018-06-22  274.74  1.854667  0.221109  34.938091\n",
       "2018-06-25  271.00  2.755333  0.844388  17.374752\n",
       "2018-06-26  271.60  2.903333  1.105809  24.941313\n",
       "2018-06-27  269.35  3.832000  1.542156  17.450428\n",
       "2018-06-28  270.89  3.084667  1.526362  34.325907\n",
       "2018-06-29  271.28  2.606333  1.398678  38.317594"
      ]
     },
     "execution_count": 73,
     "metadata": {},
     "output_type": "execute_result"
    }
   ],
   "source": [
    "test_df"
   ]
  },
  {
   "cell_type": "code",
   "execution_count": 74,
   "metadata": {},
   "outputs": [],
   "source": [
    "def normalize_in_scoring(df,min_max_dict_list):\n",
    "    # Normalize data\n",
    "    result = df.copy()\n",
    "    min_dict = min_max_dict_list[0]\n",
    "    max_dict = min_max_dict_list[1]\n",
    "    print(min_max_dict_list[0]) # Min\n",
    "    print(min_max_dict_list[1]) # Max\n",
    "    print(df.columns)\n",
    "    for feature_name in df.columns:\n",
    "        result[feature_name] = (df[feature_name] - min_dict[feature_name]) / (max_dict[feature_name] - min_dict[feature_name])\n",
    "        \n",
    "    return result"
   ]
  },
  {
   "cell_type": "code",
   "execution_count": 75,
   "metadata": {},
   "outputs": [
    {
     "name": "stdout",
     "output_type": "stream",
     "text": [
      "{'Close': 68.110001, 'sma_diff': -6.104154400000056, 'ema_diff': -3.66368113102817, 'rsi': 4.26271527994781, 'target': 68.110001}\n",
      "{'Close': 286.58, 'sma_diff': 12.471332266666792, 'ema_diff': 7.731594856915947, 'rsi': 97.57572579549975, 'target': 286.58}\n",
      "Index(['Close', 'sma_diff', 'ema_diff', 'rsi'], dtype='object')\n"
     ]
    }
   ],
   "source": [
    "test_df_n = normalize_in_scoring(test_df, min_max_dict_list)"
   ]
  },
  {
   "cell_type": "code",
   "execution_count": 76,
   "metadata": {},
   "outputs": [
    {
     "data": {
      "text/html": [
       "<div>\n",
       "<style scoped>\n",
       "    .dataframe tbody tr th:only-of-type {\n",
       "        vertical-align: middle;\n",
       "    }\n",
       "\n",
       "    .dataframe tbody tr th {\n",
       "        vertical-align: top;\n",
       "    }\n",
       "\n",
       "    .dataframe thead th {\n",
       "        text-align: right;\n",
       "    }\n",
       "</style>\n",
       "<table border=\"1\" class=\"dataframe\">\n",
       "  <thead>\n",
       "    <tr style=\"text-align: right;\">\n",
       "      <th></th>\n",
       "      <th>Close</th>\n",
       "      <th>sma_diff</th>\n",
       "      <th>ema_diff</th>\n",
       "      <th>rsi</th>\n",
       "    </tr>\n",
       "    <tr>\n",
       "      <th>Date</th>\n",
       "      <th></th>\n",
       "      <th></th>\n",
       "      <th></th>\n",
       "      <th></th>\n",
       "    </tr>\n",
       "  </thead>\n",
       "  <tbody>\n",
       "    <tr>\n",
       "      <th>2018-06-18</th>\n",
       "      <td>0.954136</td>\n",
       "      <td>0.335379</td>\n",
       "      <td>0.240703</td>\n",
       "      <td>0.414673</td>\n",
       "    </tr>\n",
       "    <tr>\n",
       "      <th>2018-06-19</th>\n",
       "      <td>0.949284</td>\n",
       "      <td>0.395494</td>\n",
       "      <td>0.275837</td>\n",
       "      <td>0.312278</td>\n",
       "    </tr>\n",
       "    <tr>\n",
       "      <th>2018-06-20</th>\n",
       "      <td>0.951435</td>\n",
       "      <td>0.408611</td>\n",
       "      <td>0.293320</td>\n",
       "      <td>0.390606</td>\n",
       "    </tr>\n",
       "    <tr>\n",
       "      <th>2018-06-21</th>\n",
       "      <td>0.943516</td>\n",
       "      <td>0.433393</td>\n",
       "      <td>0.326863</td>\n",
       "      <td>0.244218</td>\n",
       "    </tr>\n",
       "    <tr>\n",
       "      <th>2018-06-22</th>\n",
       "      <td>0.945805</td>\n",
       "      <td>0.428458</td>\n",
       "      <td>0.340912</td>\n",
       "      <td>0.328736</td>\n",
       "    </tr>\n",
       "    <tr>\n",
       "      <th>2018-06-25</th>\n",
       "      <td>0.928686</td>\n",
       "      <td>0.476945</td>\n",
       "      <td>0.395609</td>\n",
       "      <td>0.140517</td>\n",
       "    </tr>\n",
       "    <tr>\n",
       "      <th>2018-06-26</th>\n",
       "      <td>0.931432</td>\n",
       "      <td>0.484913</td>\n",
       "      <td>0.418550</td>\n",
       "      <td>0.221605</td>\n",
       "    </tr>\n",
       "    <tr>\n",
       "      <th>2018-06-27</th>\n",
       "      <td>0.921133</td>\n",
       "      <td>0.534907</td>\n",
       "      <td>0.456842</td>\n",
       "      <td>0.141328</td>\n",
       "    </tr>\n",
       "    <tr>\n",
       "      <th>2018-06-28</th>\n",
       "      <td>0.928182</td>\n",
       "      <td>0.494675</td>\n",
       "      <td>0.455456</td>\n",
       "      <td>0.322176</td>\n",
       "    </tr>\n",
       "    <tr>\n",
       "      <th>2018-06-29</th>\n",
       "      <td>0.929968</td>\n",
       "      <td>0.468924</td>\n",
       "      <td>0.444251</td>\n",
       "      <td>0.364953</td>\n",
       "    </tr>\n",
       "  </tbody>\n",
       "</table>\n",
       "</div>"
      ],
      "text/plain": [
       "               Close  sma_diff  ema_diff       rsi\n",
       "Date                                              \n",
       "2018-06-18  0.954136  0.335379  0.240703  0.414673\n",
       "2018-06-19  0.949284  0.395494  0.275837  0.312278\n",
       "2018-06-20  0.951435  0.408611  0.293320  0.390606\n",
       "2018-06-21  0.943516  0.433393  0.326863  0.244218\n",
       "2018-06-22  0.945805  0.428458  0.340912  0.328736\n",
       "2018-06-25  0.928686  0.476945  0.395609  0.140517\n",
       "2018-06-26  0.931432  0.484913  0.418550  0.221605\n",
       "2018-06-27  0.921133  0.534907  0.456842  0.141328\n",
       "2018-06-28  0.928182  0.494675  0.455456  0.322176\n",
       "2018-06-29  0.929968  0.468924  0.444251  0.364953"
      ]
     },
     "execution_count": 76,
     "metadata": {},
     "output_type": "execute_result"
    }
   ],
   "source": [
    "test_df_n"
   ]
  },
  {
   "cell_type": "code",
   "execution_count": 77,
   "metadata": {},
   "outputs": [
    {
     "name": "stdout",
     "output_type": "stream",
     "text": [
      "[array([[0.95413558, 0.24070298, 0.41467311, 0.33537862],\n",
      "       [0.94928365, 0.27583745, 0.31227816, 0.39549369],\n",
      "       [0.95143498, 0.29332032, 0.39060616, 0.40861133],\n",
      "       [0.94351627, 0.32686286, 0.24421787, 0.4333931 ],\n",
      "       [0.94580492, 0.34091231, 0.32873632, 0.42845828],\n",
      "       [0.92868586, 0.39560863, 0.1405167 , 0.47694512],\n",
      "       [0.93143223, 0.41854977, 0.22160465, 0.48491261],\n",
      "       [0.92113334, 0.45684169, 0.14132769, 0.53490681],\n",
      "       [0.92818236, 0.45545568, 0.32217578, 0.49467458],\n",
      "       [0.9299675 , 0.44425064, 0.36495317, 0.4689238 ]])]\n",
      "(1, 10, 4)\n",
      "[[0.921697]]\n",
      "[[269.47314453125]]\n"
     ]
    }
   ],
   "source": [
    "# Create sequences\n",
    "test_df_n = test_df_n.reindex(sorted(test_df_n.columns), axis=1) # To make sure columns are always with same order\n",
    "data = test_df_n.values \n",
    "seq_len = window\n",
    "result = []\n",
    "for index in range(len(data) - seq_len + 1):\n",
    "    result.append(data[index: index + seq_len])\n",
    "\n",
    "print(result)\n",
    "result = np.array(result)\n",
    "print(result.shape)\n",
    "\n",
    "#Predict\n",
    "pred = model.predict(result)\n",
    "print(pred)\n",
    "\n",
    "# de-normalize the target\n",
    "pred = denormalize(pred, min_max_dict_list)\n",
    "\n",
    "# Send results\n",
    "pred = pred.tolist()\n",
    "print(pred)"
   ]
  },
  {
   "cell_type": "markdown",
   "metadata": {},
   "source": [
    "# DEPLOY Model in Azure Container Instance"
   ]
  },
  {
   "cell_type": "code",
   "execution_count": 90,
   "metadata": {},
   "outputs": [
    {
     "name": "stdout",
     "output_type": "stream",
     "text": [
      "Ticker: SPY\n",
      "Model  file: ./models/SPY-model-lstm-tensorflow-3day-0.00027683653969653315.h5\n",
      "Min-max file: ./models/SPY-min_max.pkl\n",
      "Test DF file: ./data/SPY-test_score_df.pkl\n"
     ]
    }
   ],
   "source": [
    "import json\n",
    "import shutil\n",
    "from urllib.request import urlretrieve\n",
    "from keras.models import load_model\n",
    "import pandas as pd\n",
    "\n",
    "DATA_DIR = \"./data/\"\n",
    "DEPLOY_DIR = \"./deploy/\"\n",
    "MODELS_DIR = \"./models/\"\n",
    "MODEL_FILE = \"SPY-model-lstm-tensorflow-3day-0.00027683653969653315.h5\"\n",
    "MODEL_PATH = MODELS_DIR + MODEL_FILE\n",
    "\n",
    "TICKER = MODEL_FILE.split(\"-\")[0]\n",
    "\n",
    "# the min_max values dictionary\n",
    "MIN_MAX_DICT = TICKER +'-min_max.pkl'\n",
    "MIN_MAX_DICT_PATH = MODELS_DIR + MIN_MAX_DICT\n",
    "\n",
    "# the pickle test df\n",
    "TEST_DF = TICKER +'-test_score_df.pkl'\n",
    "TEST_DF_PATH = DATA_DIR + TEST_DF\n",
    "\n",
    "# Azure Container Service (ACI) Name\n",
    "ACI_SERVICE_NAME = TICKER + '-aciservice'\n",
    "\n",
    "print(\"Ticker: \" + TICKER)\n",
    "print(\"Model  file: \" + MODEL_PATH)\n",
    "print(\"Min-max file: \" + MIN_MAX_DICT_PATH )\n",
    "print(\"Test DF file: \" + TEST_DF_PATH)"
   ]
  },
  {
   "cell_type": "markdown",
   "metadata": {},
   "source": [
    "### Test init() and run() functions to read from the working directory"
   ]
  },
  {
   "cell_type": "markdown",
   "metadata": {},
   "source": [
    "The web service requires two functions, an init() function that will initialize the web service by loading the model into the service, and a run() function that will engineer the features to match the model call structure, and score that data set. We create the functions in here for testing and debugging."
   ]
  },
  {
   "cell_type": "code",
   "execution_count": 79,
   "metadata": {},
   "outputs": [],
   "source": [
    "def init():\n",
    "    # read in the model file\n",
    "    global model\n",
    "    global min_max_dict_list\n",
    "    \n",
    "    # load model\n",
    "    model = load_model(MODEL_PATH)\n",
    "    print(\"Model Loaded\")\n",
    "    \n",
    "    # Load Min Max list values\n",
    "    with open(MIN_MAX_DICT_PATH, 'rb') as handle:\n",
    "        min_max_dict_list = pickle.load(handle)\n",
    "        print(\"Min_max List loaded\")"
   ]
  },
  {
   "cell_type": "code",
   "execution_count": 80,
   "metadata": {},
   "outputs": [],
   "source": [
    "def run(raw_data):\n",
    "    try:\n",
    "        data = json.loads(raw_data)['data']\n",
    "        data = pd.read_json(data, orient='records')\n",
    "        data_n = data.copy()\n",
    "        \n",
    "        # Normalize data\n",
    "        min_dict = min_max_dict_list[0]\n",
    "        max_dict = min_max_dict_list[1]\n",
    "        print(data_n.columns)\n",
    "        for feature_name in data_n.columns:\n",
    "            data_n[feature_name] = (data[feature_name] - min_dict[feature_name]) / (max_dict[feature_name] - min_dict[feature_name])\n",
    "        \n",
    "        # Create sequences\n",
    "        data = data.reindex(sorted(data.columns), axis=1) # To make sure columns are always with same order\n",
    "        data = data_n.values \n",
    "        seq_len = 10\n",
    "        result = []\n",
    "        for index in range(len(data) - seq_len + 1):\n",
    "            result.append(data[index: index + seq_len])\n",
    "\n",
    "        result = np.array(result)\n",
    "        print(result.shape)\n",
    "        \n",
    "        pred = model.predict(result)\n",
    "        print(pred)\n",
    "        \n",
    "        # de-normalize the target\n",
    "        pred = pred * (max_dict[\"Close\"] - min_dict[\"Close\"]) + min_dict[\"Close\"]\n",
    "        \n",
    "        # Send results\n",
    "        pred = pred.tolist()\n",
    "        return json.dumps({\"result\": pred})\n",
    "\n",
    "    except Exception as e:\n",
    "        result = str(e)\n",
    "        return json.dumps({\"error\": result})"
   ]
  },
  {
   "cell_type": "markdown",
   "metadata": {},
   "source": [
    "The webservice test requires an initialize of the webservice, then send the entire scoring data set into the model. We expect to get 1  prediction for each input in the scoring data set."
   ]
  },
  {
   "cell_type": "code",
   "execution_count": 81,
   "metadata": {},
   "outputs": [
    {
     "data": {
      "text/plain": [
       "'{\"data\": \"[{\\\\\"Close\\\\\":276.56,\\\\\"sma_diff\\\\\":0.1256666667,\\\\\"ema_diff\\\\\":-0.9208042383,\\\\\"rsi\\\\\":42.9571116039},{\\\\\"Close\\\\\":275.5,\\\\\"sma_diff\\\\\":1.2423333333,\\\\\"ema_diff\\\\\":-0.5204372189,\\\\\"rsi\\\\\":33.4023302607},{\\\\\"Close\\\\\":275.97,\\\\\"sma_diff\\\\\":1.486,\\\\\"ema_diff\\\\\":-0.3212150757,\\\\\"rsi\\\\\":40.7113516968},{\\\\\"Close\\\\\":274.24,\\\\\"sma_diff\\\\\":1.9463333333,\\\\\"ema_diff\\\\\":0.0610113416,\\\\\"rsi\\\\\":27.0514200019},{\\\\\"Close\\\\\":274.74,\\\\\"sma_diff\\\\\":1.8546666667,\\\\\"ema_diff\\\\\":0.2211086852,\\\\\"rsi\\\\\":34.9380909623},{\\\\\"Close\\\\\":271.0,\\\\\"sma_diff\\\\\":2.7553333333,\\\\\"ema_diff\\\\\":0.844388337,\\\\\"rsi\\\\\":17.3747515618},{\\\\\"Close\\\\\":271.6,\\\\\"sma_diff\\\\\":2.9033333333,\\\\\"ema_diff\\\\\":1.105809008,\\\\\"rsi\\\\\":24.9413127492},{\\\\\"Close\\\\\":269.35,\\\\\"sma_diff\\\\\":3.832,\\\\\"ema_diff\\\\\":1.5421559899,\\\\\"rsi\\\\\":17.4504277746},{\\\\\"Close\\\\\":270.89,\\\\\"sma_diff\\\\\":3.0846666667,\\\\\"ema_diff\\\\\":1.5263620609,\\\\\"rsi\\\\\":34.3259071505},{\\\\\"Close\\\\\":271.28,\\\\\"sma_diff\\\\\":2.6063333333,\\\\\"ema_diff\\\\\":1.3986775304,\\\\\"rsi\\\\\":38.3175942846}]\"}'"
      ]
     },
     "execution_count": 81,
     "metadata": {},
     "output_type": "execute_result"
    }
   ],
   "source": [
    "json.dumps({\"data\": test_df.to_json(orient='records')})"
   ]
  },
  {
   "cell_type": "code",
   "execution_count": 82,
   "metadata": {},
   "outputs": [
    {
     "name": "stdout",
     "output_type": "stream",
     "text": [
      "Model Loaded\n",
      "Min_max List loaded\n",
      "Index(['Close', 'ema_diff', 'rsi', 'sma_diff'], dtype='object')\n",
      "(1, 10, 4)\n",
      "[[0.921697]]\n",
      "{\"result\": [[269.47314453125]]}\n"
     ]
    }
   ],
   "source": [
    "init()\n",
    "pred=run(json.dumps({\"data\": test_df.to_json(orient='records')}))\n",
    "print(pred)"
   ]
  },
  {
   "cell_type": "markdown",
   "metadata": {},
   "source": [
    "## Persist model assets"
   ]
  },
  {
   "cell_type": "markdown",
   "metadata": {},
   "source": [
    "Next we persist the assets we have created for use in operationalization. The conda dependencies are defined in this YAML file. This will be used to tell the webservice server which python packages are required to run this web service"
   ]
  },
  {
   "cell_type": "code",
   "execution_count": 83,
   "metadata": {},
   "outputs": [
    {
     "name": "stdout",
     "output_type": "stream",
     "text": [
      "Overwriting ./deploy/myenv.yml\n"
     ]
    }
   ],
   "source": [
    "%%writefile {DEPLOY_DIR}myenv.yml\n",
    "name: myenv\n",
    "channels:\n",
    "  - defaults\n",
    "dependencies:\n",
    "  - python=3.5.2\n",
    "  - pip:\n",
    "    - keras\n",
    "    - tensorflow\n",
    "    - h5py\n",
    "    # Required packages for AzureML execution, history, and data preparation.\n",
    "    - --extra-index-url https://azuremlsdktestpypi.azureedge.net/sdk-release/Preview/E7501C02541B433786111FE8E140CAA1\n",
    "    - azureml-core"
   ]
  },
  {
   "cell_type": "markdown",
   "metadata": {},
   "source": [
    "The score.py file is python code defining the web service operation. It includes both the init() and run() functions defined earlier imports the required libraries. These should be nearly identical to the previous defined versions."
   ]
  },
  {
   "cell_type": "code",
   "execution_count": 84,
   "metadata": {},
   "outputs": [
    {
     "name": "stdout",
     "output_type": "stream",
     "text": [
      "Overwriting ./deploy/score.py\n"
     ]
    }
   ],
   "source": [
    "%%writefile {DEPLOY_DIR}score.py\n",
    "\n",
    "import pickle\n",
    "import json\n",
    "import numpy as np\n",
    "import pandas as pd\n",
    "from azureml.core.model import Model\n",
    "from keras.models import load_model\n",
    "\n",
    "TICKER = \"SPY\"\n",
    "LSTM_MODEL = TICKER +'-modellstm.h5'\n",
    "MIN_MAX_DICT = TICKER +'-min_max.pkl'\n",
    "\n",
    "\n",
    "def init():\n",
    "    global model\n",
    "    global min_max_dict_list\n",
    "    \n",
    "    # load model\n",
    "    model_path = Model.get_model_path(model_name = LSTM_MODEL)\n",
    "    model = load_model(model_path)\n",
    "\n",
    "    # Load Min Max list values\n",
    "    model_path = Model.get_model_path(model_name = MIN_MAX_DICT)\n",
    "    with open(model_path, 'rb') as handle:\n",
    "        min_max_dict_list = pickle.load(handle)\n",
    "        print(\"Min_max List loaded\")\n",
    "\n",
    "def run(raw_data):\n",
    "    try:\n",
    "        data = json.loads(raw_data)['data']\n",
    "        data = pd.read_json(data, orient='records')\n",
    "        data_n = data.copy()\n",
    "        \n",
    "        # Normalize data\n",
    "        min_dict = min_max_dict_list[0]\n",
    "        max_dict = min_max_dict_list[1]\n",
    "        for feature_name in data.columns:\n",
    "            data_n[feature_name] = (data[feature_name] - min_dict[feature_name]) / (max_dict[feature_name] - min_dict[feature_name])\n",
    "        \n",
    "        # Create sequences\n",
    "        data = data.reindex(sorted(data.columns), axis=1) # To make sure columns are always with same order\n",
    "        data = data_n.values \n",
    "        seq_len = 10\n",
    "        result = []\n",
    "        for index in range(len(data) - seq_len + 1):\n",
    "            result.append(data[index: index + seq_len])\n",
    "\n",
    "        result = np.array(result)\n",
    "        print(result.shape)\n",
    "        \n",
    "        pred = model.predict(result)\n",
    "        print(pred)\n",
    "        \n",
    "        # De-normalize the target\n",
    "        pred = pred * (max_dict[\"Close\"] - min_dict[\"Close\"]) + min_dict[\"Close\"]\n",
    "        \n",
    "        # Send results\n",
    "        pred = pred.tolist()\n",
    "        return json.dumps({\"result\": pred})\n",
    "\n",
    "    except Exception as e:\n",
    "        result = str(e)\n",
    "        return json.dumps({\"error\": result})"
   ]
  },
  {
   "cell_type": "markdown",
   "metadata": {},
   "source": [
    "We also include a python file test_service.py which can test the web service you create. "
   ]
  },
  {
   "cell_type": "markdown",
   "metadata": {},
   "source": [
    "# Creating a web service out of the scoring script\n",
    "\n",
    "Let's now see how we can create a scoring web service from the above model. We are going to be using the Preview of the Azure ML Python SDK."
   ]
  },
  {
   "cell_type": "code",
   "execution_count": 88,
   "metadata": {},
   "outputs": [
    {
     "name": "stdout",
     "output_type": "stream",
     "text": [
      "Found the config file in: /home/sshuser/notebooks/Meetups-Data-AI-DFW/aml_config/config.json\n",
      "meetups_aml_workspace\n",
      "meetups_aml_rg\n",
      "eastus2\n"
     ]
    }
   ],
   "source": [
    "# load workspace configuratio from ./aml_config/config.json file\n",
    "ws = Workspace.from_config()\n",
    "print(ws.name, ws.resource_group, ws.location, sep = '\\n')"
   ]
  },
  {
   "cell_type": "markdown",
   "metadata": {},
   "source": [
    "#### Link (Preview whitelisted) to see the portal UI\n",
    "\n",
    "https://aka.ms/mlextensions_dev"
   ]
  },
  {
   "cell_type": "markdown",
   "metadata": {},
   "source": [
    "### Register Model"
   ]
  },
  {
   "cell_type": "code",
   "execution_count": 102,
   "metadata": {},
   "outputs": [
    {
     "name": "stdout",
     "output_type": "stream",
     "text": [
      "8135180d-9bb1-496e-9637-615802bdfc55\n"
     ]
    }
   ],
   "source": [
    "rid = list(experiment.get_runs())[0].id\n",
    "print (rid)\n",
    "run = Run(experiment=experiment, run_id=rid)"
   ]
  },
  {
   "cell_type": "code",
   "execution_count": 107,
   "metadata": {},
   "outputs": [
    {
     "data": {
      "text/plain": [
       "['outputs/SPY-min_max.pkl',\n",
       " 'outputs/SPY-model-lstm-tensorflow-3day-0.00027683653969653315.h5']"
      ]
     },
     "execution_count": 107,
     "metadata": {},
     "output_type": "execute_result"
    }
   ],
   "source": [
    "run.get_file_names()"
   ]
  },
  {
   "cell_type": "markdown",
   "metadata": {},
   "source": [
    "Now we can register these models in the model registry of the workspace"
   ]
  },
  {
   "cell_type": "markdown",
   "metadata": {},
   "source": [
    "#### OPTION 1 - From the Run object"
   ]
  },
  {
   "cell_type": "code",
   "execution_count": 111,
   "metadata": {},
   "outputs": [],
   "source": [
    "LSTM_MODEL = TICKER +'-modellstm.h5' # need to shrinken the name\n",
    "\n",
    "model = run.register_model(model_name = LSTM_MODEL, \n",
    "                           model_path = run.get_file_names()[0])\n",
    "\n",
    "min_max_dict_model = run.register_model(model_name = MIN_MAX_DICT, \n",
    "                                        model_path = run.get_file_names()[1])"
   ]
  },
  {
   "cell_type": "markdown",
   "metadata": {},
   "source": [
    "#### OPTION 2 - From local, caling the Model library"
   ]
  },
  {
   "cell_type": "code",
   "execution_count": 122,
   "metadata": {},
   "outputs": [
    {
     "name": "stdout",
     "output_type": "stream",
     "text": [
      "Registering model SPY-modellstm.h5\n"
     ]
    }
   ],
   "source": [
    "from azureml.core.model import Model\n",
    "\n",
    "LSTM_MODEL = TICKER +'-modellstm.h5' # need to shrinken the name\n",
    "\n",
    "model = Model.register(model_path = MODEL_PATH,\n",
    "                       model_name = LSTM_MODEL,\n",
    "                       tags = {'ticker': TICKER, 'type': \"lstm\", 'target': \"Close\"},\n",
    "                       description = \"LSTM regression model to predict \"+ TICKER +\" Close price\",\n",
    "                       workspace = ws)"
   ]
  },
  {
   "cell_type": "code",
   "execution_count": 123,
   "metadata": {},
   "outputs": [
    {
     "name": "stdout",
     "output_type": "stream",
     "text": [
      "Registering model SPY-min_max.pkl\n"
     ]
    }
   ],
   "source": [
    "min_max_dict_model = Model.register(model_path = MIN_MAX_DICT_PATH,\n",
    "                       model_name = MIN_MAX_DICT,\n",
    "                       tags = {'ticker': TICKER, 'type': \"pickleDict\", 'target': \"Close\"},\n",
    "                       description = \"MIN_MAX dictionary use to normalization of \"+ TICKER +\" stock data\",\n",
    "                       workspace = ws)"
   ]
  },
  {
   "cell_type": "code",
   "execution_count": null,
   "metadata": {},
   "outputs": [],
   "source": [
    "for m in ws.models():\n",
    "    print(\"Name:\", m.name,\"\\tVersion:\", m.version)"
   ]
  },
  {
   "cell_type": "markdown",
   "metadata": {},
   "source": [
    "### Create Docker Image"
   ]
  },
  {
   "cell_type": "markdown",
   "metadata": {},
   "source": [
    "Note that following command can take few minutes.<br>\n",
    "Note that the score.py and the conda yml file must be in the same directory than this notebook.<br>\n",
    "You can add tags and descriptions to images. Also, an image can contain multiple models."
   ]
  },
  {
   "cell_type": "code",
   "execution_count": 126,
   "metadata": {},
   "outputs": [],
   "source": [
    "!cp ./deploy/score.py ./\n",
    "!cp ./deploy/myenv.yml ./"
   ]
  },
  {
   "cell_type": "code",
   "execution_count": 127,
   "metadata": {},
   "outputs": [
    {
     "name": "stdout",
     "output_type": "stream",
     "text": [
      "Creating image\n",
      "Running.....................................................\n",
      "SucceededImage creation operation finished for image spy.image:1, operation \"Succeeded\"\n"
     ]
    }
   ],
   "source": [
    "from azureml.core.image import ContainerImage\n",
    "\n",
    "image_config = ContainerImage.image_configuration(execution_script = \"score.py\",\n",
    "                                                  runtime = \"python\",\n",
    "                                                  conda_file = \"myenv.yml\",\n",
    "                                                  description = \"Image with \"+ TICKER + \"regression LSTM model\",\n",
    "                                                  tags = {'ticker': TICKER, 'type': \"lstm\", 'target': \"Close\"})\n",
    "\n",
    "image = ContainerImage.create(name = TICKER.lower() + \".image\",\n",
    "                              models = [model, min_max_dict_model],\n",
    "                              image_config = image_config,\n",
    "                              workspace = ws)\n",
    "\n",
    "image.wait_for_creation(show_output = True)"
   ]
  },
  {
   "cell_type": "code",
   "execution_count": 128,
   "metadata": {},
   "outputs": [],
   "source": [
    "!rm score.py myenv.yml"
   ]
  },
  {
   "cell_type": "code",
   "execution_count": 132,
   "metadata": {},
   "outputs": [
    {
     "name": "stdout",
     "output_type": "stream",
     "text": [
      "spy.image:1 spy.image(v.1 [Succeeded]) stored at meetupsaacrevoriscu.azurecr.io/spy.image:1 with build log https://eastus2ice.blob.core.windows.net/logs/meetupsaacrevoriscu_98f3cef8f3304d10af3458c2f4a9805b.txt?sr=b&sv=2017-04-17&se=2018-10-10T05%3A57%3A11Z&sig=9Zm/7B4998dJf453FSwMXpIqvCm9EV7CfePwVMnP03M%3D&sp=r\n"
     ]
    }
   ],
   "source": [
    "for i in image.list(workspace = ws):\n",
    "    print('{} {}(v.{} [{}]) stored at {} with build log {}'.format(i.id, i.name, i.version, i.creation_state, i.image_location, i.image_build_log_uri))"
   ]
  },
  {
   "cell_type": "markdown",
   "metadata": {},
   "source": [
    "### Deploy image as web service on Azure Container Instance (ACI)\n",
    "Note that the service creation can take few minutes."
   ]
  },
  {
   "cell_type": "code",
   "execution_count": 133,
   "metadata": {},
   "outputs": [],
   "source": [
    "from azureml.core.webservice import AciWebservice\n",
    "\n",
    "aciconfig = AciWebservice.deploy_configuration(cpu_cores = 1, \n",
    "                                               memory_gb = 4, \n",
    "                                               tags = {'ticker': TICKER, 'type': \"lstm\", 'target': \"Close\"}, \n",
    "                                               description = \"ACI Service to predict \"+ TICKER +\" Close price\")"
   ]
  },
  {
   "cell_type": "code",
   "execution_count": 134,
   "metadata": {},
   "outputs": [
    {
     "name": "stdout",
     "output_type": "stream",
     "text": [
      "spy-aciservice\n",
      "Creating service\n",
      "Running......................................\n",
      "SucceededACI service creation operation finished, operation \"Succeeded\"\n",
      "Healthy\n",
      "CPU times: user 749 ms, sys: 66.2 ms, total: 815 ms\n",
      "Wall time: 3min 38s\n"
     ]
    }
   ],
   "source": [
    "%%time\n",
    "from azureml.core.webservice import Webservice\n",
    "\n",
    "aci_service_name = ACI_SERVICE_NAME.lower()\n",
    "print(aci_service_name)\n",
    "aci_service = Webservice.deploy_from_image(deployment_config = aciconfig,\n",
    "                                           image = image,\n",
    "                                           name = aci_service_name,\n",
    "                                           workspace = ws)\n",
    "aci_service.wait_for_deployment(True)\n",
    "print(aci_service.state)"
   ]
  },
  {
   "cell_type": "markdown",
   "metadata": {},
   "source": [
    "### Test ACI web service"
   ]
  },
  {
   "cell_type": "code",
   "execution_count": 135,
   "metadata": {},
   "outputs": [
    {
     "name": "stdout",
     "output_type": "stream",
     "text": [
      "web service hosted in ACI: http://137.135.115.114:5001/score\n"
     ]
    }
   ],
   "source": [
    "print('web service hosted in ACI:', aci_service.scoring_uri)"
   ]
  },
  {
   "cell_type": "code",
   "execution_count": 136,
   "metadata": {},
   "outputs": [
    {
     "name": "stdout",
     "output_type": "stream",
     "text": [
      "{\"result\": [[269.47314453125]]}\n"
     ]
    }
   ],
   "source": [
    "import json\n",
    "\n",
    "test_sample = json.dumps({\"data\": test_df.to_json(orient='records')})\n",
    "\n",
    "prediction = aci_service.run(input_data = test_sample)\n",
    "print(prediction)"
   ]
  },
  {
   "cell_type": "code",
   "execution_count": 137,
   "metadata": {},
   "outputs": [
    {
     "name": "stdout",
     "output_type": "stream",
     "text": [
      "b'\"{\\\\\"result\\\\\": [[269.47314453125]]}\"'\n"
     ]
    }
   ],
   "source": [
    "import urllib\n",
    "import requests\n",
    "\n",
    "# The URL will need to be editted after service create.\n",
    "url_aci = aci_service.scoring_uri\n",
    "\n",
    "headers = {'Content-Type':'application/json'}\n",
    "\n",
    "body = json.dumps({\"data\": test_df.to_json(orient='records')})\n",
    "\n",
    "#Send Request to ACI service and print response\n",
    "req_aci = urllib.request.Request(url_aci, str.encode(body), headers) \n",
    "print(urllib.request.urlopen(req_aci).read())"
   ]
  },
  {
   "cell_type": "markdown",
   "metadata": {},
   "source": [
    "## Delete ACI to clean up"
   ]
  },
  {
   "cell_type": "code",
   "execution_count": null,
   "metadata": {},
   "outputs": [],
   "source": [
    "%%time\n",
    "aci_service.delete()"
   ]
  }
 ],
 "metadata": {
  "kernelspec": {
   "display_name": "AzureML",
   "language": "python",
   "name": "azml"
  },
  "language_info": {
   "codemirror_mode": {
    "name": "ipython",
    "version": 3
   },
   "file_extension": ".py",
   "mimetype": "text/x-python",
   "name": "python",
   "nbconvert_exporter": "python",
   "pygments_lexer": "ipython3",
   "version": "3.6.6"
  },
  "widgets": {
   "state": {},
   "version": "1.1.2"
  }
 },
 "nbformat": 4,
 "nbformat_minor": 2
}
