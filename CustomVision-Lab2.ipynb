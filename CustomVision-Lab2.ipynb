{
 "cells": [
  {
   "cell_type": "markdown",
   "metadata": {},
   "source": [
    "<h1 align=\"center\">TAGx AI Day</h1>\n",
    "<h2 align=\"center\">Custom Vision - Cognitive services Lab 2</h2>\n",
    "<h2 align=\"center\">Object Detection</h2>\n",
    "\n",
    "## Setting Up Environment"
   ]
  },
  {
   "cell_type": "markdown",
   "metadata": {},
   "source": [
    "1. Go to https://customvision.ai/  and sign in with your azure account/ID\n",
    "2. Once you are in, go to Settings (gear icon - upper right corner) and copy your Limited Trial Prediction and Training Key"
   ]
  },
  {
   "cell_type": "markdown",
   "metadata": {},
   "source": [
    "## Initialize the libraries and origin and destination workspaces"
   ]
  },
  {
   "cell_type": "code",
   "execution_count": null,
   "metadata": {},
   "outputs": [],
   "source": [
    "from azure.cognitiveservices.vision.customvision.training import training_api\n",
    "from azure.cognitiveservices.vision.customvision.training.models import ImageUrlCreateEntry, Region\n",
    "\n",
    "import numpy as np\n",
    "import cv2\n",
    "from matplotlib import pyplot as plt\n",
    "import urllib.request as ul\n",
    "\n",
    "# DESTINATION Resource Group Keys\n",
    "dest_training_key = \"<TRAINING KEY>\"\n",
    "dest_prediction_key = \"<PREDICTION KEY>\"\n",
    "dest_project_new_name = \"PowerItems_Detection_Copy\"\n",
    "\n",
    "# ORIGIN Resource Group Keys\n",
    "training_key = \"970bf90c200d4f429a233dee4239e8f1\"\n",
    "prediction_key = \"23287e52d75349138403089743a504ab\"\n",
    "\n",
    "trainer = training_api.TrainingApi(training_key)\n",
    "dest_trainer = training_api.TrainingApi(dest_training_key)\n",
    "\n",
    "# Find the object detection domain\n",
    "obj_detection_domain = next(domain for domain in trainer.get_domains() if domain.type == \"ObjectDetection\")\n",
    "dest_obj_detection_domain = next(domain for domain in dest_trainer.get_domains() if domain.type == \"ObjectDetection\")"
   ]
  },
  {
   "cell_type": "markdown",
   "metadata": {},
   "source": [
    "## Get the origin project ID reference"
   ]
  },
  {
   "cell_type": "code",
   "execution_count": null,
   "metadata": {},
   "outputs": [],
   "source": [
    "myProjects = trainer.get_projects()"
   ]
  },
  {
   "cell_type": "code",
   "execution_count": null,
   "metadata": {},
   "outputs": [],
   "source": [
    "for project in myProjects:\n",
    "    print(project.name)\n",
    "    print(project.id)\n",
    "    print(project.description)"
   ]
  },
  {
   "cell_type": "code",
   "execution_count": null,
   "metadata": {},
   "outputs": [],
   "source": [
    "Project = trainer.get_project(project_id=\"70e7718a-e1f1-45d5-bba1-60b224f55365\")"
   ]
  },
  {
   "cell_type": "markdown",
   "metadata": {},
   "source": [
    "## Create the destination Project "
   ]
  },
  {
   "cell_type": "code",
   "execution_count": null,
   "metadata": {},
   "outputs": [],
   "source": [
    "dest_Project = dest_trainer.create_project(dest_project_new_name, domain_id=dest_obj_detection_domain.id)"
   ]
  },
  {
   "cell_type": "code",
   "execution_count": null,
   "metadata": {},
   "outputs": [],
   "source": [
    "for project in dest_trainer.get_projects():\n",
    "    print(project.name)\n",
    "    print(project.id)\n",
    "    print(project.description)"
   ]
  },
  {
   "cell_type": "markdown",
   "metadata": {},
   "source": [
    "## Get the tags on origin project and create same tags on destination project"
   ]
  },
  {
   "cell_type": "code",
   "execution_count": null,
   "metadata": {
    "scrolled": true
   },
   "outputs": [],
   "source": [
    "dest_tags = []\n",
    "for tag in trainer.get_tags(Project.id):\n",
    "    dest_tags.append(dest_trainer.create_tag(dest_Project.id, tag.name))\n",
    "    print(tag.name)"
   ]
  },
  {
   "cell_type": "code",
   "execution_count": null,
   "metadata": {},
   "outputs": [],
   "source": [
    "dest_tags_dict = {}\n",
    "dest_tag_ids = []\n",
    "for tag in dest_tags:\n",
    "    dest_tags_dict[tag.name] = tag.id\n",
    "    dest_tag_ids.append(tag.id)\n",
    "\n",
    "print(dest_tags_dict)\n",
    "print(dest_tag_ids)"
   ]
  },
  {
   "cell_type": "markdown",
   "metadata": {},
   "source": [
    "## Get the images with regions on origin project"
   ]
  },
  {
   "cell_type": "code",
   "execution_count": null,
   "metadata": {},
   "outputs": [],
   "source": [
    "tagged_images = trainer.get_tagged_images(Project.id, take=trainer.get_tagged_image_count(Project.id))"
   ]
  },
  {
   "cell_type": "code",
   "execution_count": null,
   "metadata": {},
   "outputs": [],
   "source": [
    "tagged_images_with_regions = []\n",
    "for image in tagged_images:\n",
    "    dest_regions = []\n",
    "    dest_tags_ids = []\n",
    "    \n",
    "    for tag in image.tags: #for each tag on the origin image\n",
    "        dest_tags_ids.append(dest_tags_dict[tag.tag_name]) \n",
    "    for region in image.regions: #for each region on the origin image\n",
    "        dest_regions.append(Region(tag_id=dest_tags_dict[region.tag_name], left=region.left, top=region.top, width=region.width, height=region.height))\n",
    "    \n",
    "    tagged_images_with_regions.append(ImageUrlCreateEntry(url=image.image_uri, tag_ids=dest_tags_ids, regions=dest_regions))\n",
    "print(\"Done\")"
   ]
  },
  {
   "cell_type": "markdown",
   "metadata": {},
   "source": [
    "## Create the images with regions on destination project"
   ]
  },
  {
   "cell_type": "code",
   "execution_count": null,
   "metadata": {},
   "outputs": [],
   "source": [
    "limit = 64 # this is a limit imposed on the API, so we need to batch the creation process\n",
    "count_of_images = len(tagged_images_with_regions)\n",
    "\n",
    "for i in range(0,count_of_images,limit):\n",
    "    begin=i\n",
    "    end=limit+i\n",
    "    if(end > count_of_images ): end = count_of_images\n",
    "    dest_trainer.create_images_from_urls(dest_Project.id, images=tagged_images_with_regions[begin:end])"
   ]
  },
  {
   "cell_type": "code",
   "execution_count": null,
   "metadata": {},
   "outputs": [],
   "source": [
    "print(\"Count of Tagged images on origin project: \" + str(trainer.get_tagged_image_count(Project.id)))\n",
    "print(\"Count of Tagged images on destination project: \" + str(dest_trainer.get_tagged_image_count(dest_Project.id)))"
   ]
  },
  {
   "cell_type": "markdown",
   "metadata": {},
   "source": [
    "## Train the model on destination Project"
   ]
  },
  {
   "cell_type": "code",
   "execution_count": null,
   "metadata": {},
   "outputs": [],
   "source": [
    "import time\n",
    "\n",
    "print (\"Training... (showing status each 10 seconds)\")\n",
    "iteration = dest_trainer.train_project(dest_Project.id)\n",
    "while (iteration.status != \"Completed\"):\n",
    "    iteration = dest_trainer.get_iteration(dest_Project.id, iteration.id)\n",
    "    print (\"Training status: \" + iteration.status)\n",
    "    time.sleep(10)\n",
    "\n",
    "# The iteration is now trained. Make it the default project endpoint\n",
    "dest_trainer.update_iteration(dest_Project.id, iteration.id, is_default=True)\n",
    "print (\"Done!\")"
   ]
  },
  {
   "cell_type": "markdown",
   "metadata": {},
   "source": [
    "## Get performance metrics"
   ]
  },
  {
   "cell_type": "code",
   "execution_count": null,
   "metadata": {},
   "outputs": [],
   "source": [
    "performance = dest_trainer.get_iteration_performance(dest_Project.id, iteration.id, threshold=0.15, overlap_threshold=0.30)\n",
    "print(\"Iteration: \" + iteration.name)\n",
    "print(\"Precision: \" + str(performance.precision * 100)+ \"%\")\n",
    "print(\"Recall: \" + str(performance.recall * 100) + \"%\")"
   ]
  },
  {
   "cell_type": "code",
   "execution_count": null,
   "metadata": {},
   "outputs": [],
   "source": [
    "per_tag_performance = performance.per_tag_performance"
   ]
  },
  {
   "cell_type": "code",
   "execution_count": null,
   "metadata": {},
   "outputs": [],
   "source": [
    "for tag in per_tag_performance:\n",
    "    print (\"Tag: \" + tag.name + \"\\t\\t\" + \"Precision: \" + str(tag.precision) + \"\\t\" + \"Recall: \" + str(tag.recall))"
   ]
  },
  {
   "cell_type": "markdown",
   "metadata": {},
   "source": [
    "## Get and use the default prediction endpoint"
   ]
  },
  {
   "cell_type": "code",
   "execution_count": null,
   "metadata": {},
   "outputs": [],
   "source": [
    "# Select an image to run through the model. Feel free to try different images!\n",
    "\n",
    "url = 'https://cnx.org/resources/0dda2e5d58aedea82e70669236f6503c938f58a4/CNX_UPhysics_32_06_Twork.jpg'\n",
    "\n",
    "data = None\n",
    "try:\n",
    "    data = ul.urlopen(url).read()\n",
    "except Exception as e:\n",
    "    print(\"Could not download the image: %s \" % e.message)\n",
    "else:\n",
    "    data =  np.frombuffer(data, np.uint8)\n",
    "    img_data = cv2.imdecode(data, cv2.IMREAD_COLOR)\n",
    "    img_data = cv2.cvtColor(img_data, cv2.COLOR_BGR2RGB)\n",
    "    plt.rcParams[\"figure.figsize\"] = [16,9]\n",
    "    plt.imshow(img_data)\n",
    "    plt.show()"
   ]
  },
  {
   "cell_type": "code",
   "execution_count": null,
   "metadata": {},
   "outputs": [],
   "source": [
    "from azure.cognitiveservices.vision.customvision.prediction import prediction_endpoint\n",
    "from azure.cognitiveservices.vision.customvision.prediction.prediction_endpoint import models\n",
    "\n",
    "# Now there is a trained endpoint that can be used to make a prediction\n",
    "dest_predictor = prediction_endpoint.PredictionEndpoint(dest_prediction_key)\n",
    "\n",
    "# Open the sample image and get back the prediction results.\n",
    "results = dest_predictor.predict_image_url(dest_Project.id, iteration_id=iteration.id, url=url)"
   ]
  },
  {
   "cell_type": "code",
   "execution_count": null,
   "metadata": {},
   "outputs": [],
   "source": [
    "from PIL import Image, ImageDraw\n",
    "from urllib.request import urlopen\n",
    "import io\n",
    "from IPython.display import display\n",
    "\n",
    "file = urlopen(url)\n",
    "image_file = io.BytesIO(file.read())\n",
    "im = Image.open(image_file)\n",
    "x,y = im.size\n",
    "draw = ImageDraw.Draw(im)\n",
    "\n",
    "# Display the results.\n",
    "for prediction in results.predictions:\n",
    "    if(prediction.probability > 0.25): # only show the prediction with more than 25% threshold probability\n",
    "        print (\"\\t\" + prediction.tag_name + \": {0:.2f}%\".format(prediction.probability * 100), \"   Box relative points:\",prediction.bounding_box.left, prediction.bounding_box.top, prediction.bounding_box.width, prediction.bounding_box.height)\n",
    "        x0 = x * prediction.bounding_box.left\n",
    "        y0 = y * prediction.bounding_box.top\n",
    "        x1 = x0 + x * prediction.bounding_box.width\n",
    "        y1 = y0 + y * prediction.bounding_box.height\n",
    "        draw.rectangle(((x0 , y0 ), (x1 , y1)), outline=\"#ff8888\")\n",
    "        draw.text((x0, y0-10), prediction.tag_name)\n",
    "\n",
    "display(im)"
   ]
  }
 ],
 "metadata": {
  "kernelspec": {
   "display_name": "Python 3",
   "language": "python",
   "name": "python3"
  },
  "language_info": {
   "codemirror_mode": {
    "name": "ipython",
    "version": 3
   },
   "file_extension": ".py",
   "mimetype": "text/x-python",
   "name": "python",
   "nbconvert_exporter": "python",
   "pygments_lexer": "ipython3",
   "version": "3.5.5"
  }
 },
 "nbformat": 4,
 "nbformat_minor": 2
}
