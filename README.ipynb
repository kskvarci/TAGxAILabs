{
 "cells": [
  {
   "cell_type": "markdown",
   "metadata": {},
   "source": [
    "# TAGx AI Day Labs\n",
    "\n",
    "## Azure Custom Vision\n",
    "* [Introduction](CustomVision-Intro.ipynb)\n",
    "* [Lab 1 - Azure Custom Vision - Image Classification](CustomVision-Lab1.ipynb)\n",
    "* [Lab 2 - Azure Custom Vision - Object Detection](CustomVision-Lab2.ipynb)\n",
    "\n",
    "## Azure Machine Learning - End to End Pipeline\n",
    "* [Introduction](End_to_End_ML_Pipeline-Intro.ipynb)\n",
    "* [Lab 1 - Machine learning with tensorflow and keras](End_to_End_ML_Pipeline-Lab1.ipynb)",
    "* [Lab 2 - Operationalizing / deploying a model using AzureML](End_to_End_ML_Pipeline-Lab2.ipynb)"
   ]
  },
  {
   "cell_type": "code",
   "execution_count": null,
   "metadata": {},
   "outputs": [],
   "source": []
  }
 ],
 "metadata": {
  "kernelspec": {
   "display_name": "Python 3",
   "language": "python",
   "name": "python3"
  },
  "language_info": {
   "codemirror_mode": {
    "name": "ipython",
    "version": 3
   },
   "file_extension": ".py",
   "mimetype": "text/x-python",
   "name": "python",
   "nbconvert_exporter": "python",
   "pygments_lexer": "ipython3",
   "version": "3.5.5"
  }
 },
 "nbformat": 4,
 "nbformat_minor": 2
}
